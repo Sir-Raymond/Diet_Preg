{
 "cells": [
  {
   "cell_type": "code",
   "execution_count": 3,
   "metadata": {
    "id": "Txg-E3AWoB1m"
   },
   "outputs": [],
   "source": [
    "import numpy as np\n",
    "import pandas as pd\n",
    "from sklearn.cluster import KMeans\n",
    "from sklearn.preprocessing import MinMaxScaler\n",
    "from sklearn.model_selection import train_test_split\n",
    "from sklearn.svm import SVC\n",
    "from sklearn.metrics import accuracy_score\n",
    "from sklearn.decomposition import PCA\n",
    "from sklearn.preprocessing import StandardScaler\n",
    "from sklearn.model_selection import cross_val_score\n",
    "from sklearn.feature_selection import SelectKBest, f_classif\n",
    "from sklearn.model_selection import GridSearchCV\n",
    "from sklearn.ensemble import RandomForestClassifier\n",
    "from sklearn.neural_network import MLPClassifier\n",
    "from sklearn.pipeline import Pipeline\n",
    "from sklearn.metrics import classification_report\n",
    "from sklearn.preprocessing import OneHotEncoder\n",
    "from sklearn.compose import ColumnTransformer\n",
    "import matplotlib.pyplot as plt\n",
    "import warnings\n",
    "\n",
    "warnings.filterwarnings(\"ignore\")"
   ]
  },
  {
   "cell_type": "code",
   "execution_count": 4,
   "metadata": {
    "id": "PpEIg0e1pHM3"
   },
   "outputs": [],
   "source": [
    "# Load the dataset\n",
    "dff = pd.read_csv('COLLATTEDAJIBABANNNN.csv', encoding='ISO-8859-1')\n",
    "df = dff"
   ]
  },
  {
   "cell_type": "code",
   "execution_count": null,
   "metadata": {},
   "outputs": [],
   "source": []
  },
  {
   "cell_type": "code",
   "execution_count": 28,
   "metadata": {},
   "outputs": [],
   "source": [
    "df.to_csv(\"clustered_diets.csv\", index=False)\n"
   ]
  },
  {
   "cell_type": "code",
   "execution_count": 6,
   "metadata": {
    "id": "AiRSuXRGpM7l"
   },
   "outputs": [],
   "source": [
    "df.fillna(0, inplace=True)\n",
    "X = df.drop(['index', 'NDB_No', 'Shrt_Desc', 'GmWt_Desc1', 'GmWt_Desc2'], axis=1).values"
   ]
  },
  {
   "cell_type": "code",
   "execution_count": 7,
   "metadata": {},
   "outputs": [
    {
     "data": {
      "text/html": [
       "<div>\n",
       "<style scoped>\n",
       "    .dataframe tbody tr th:only-of-type {\n",
       "        vertical-align: middle;\n",
       "    }\n",
       "\n",
       "    .dataframe tbody tr th {\n",
       "        vertical-align: top;\n",
       "    }\n",
       "\n",
       "    .dataframe thead th {\n",
       "        text-align: right;\n",
       "    }\n",
       "</style>\n",
       "<table border=\"1\" class=\"dataframe\">\n",
       "  <thead>\n",
       "    <tr style=\"text-align: right;\">\n",
       "      <th></th>\n",
       "      <th>index</th>\n",
       "      <th>NDB_No</th>\n",
       "      <th>Shrt_Desc</th>\n",
       "      <th>Water_(g)</th>\n",
       "      <th>Energ_Kcal</th>\n",
       "      <th>Protein_(g)</th>\n",
       "      <th>Lipid_Tot_(g)</th>\n",
       "      <th>Ash_(g)</th>\n",
       "      <th>Carbohydrt_(g)</th>\n",
       "      <th>Fiber_TD_(g)</th>\n",
       "      <th>...</th>\n",
       "      <th>Vit_K_(µg)</th>\n",
       "      <th>FA_Sat_(g)</th>\n",
       "      <th>FA_Mono_(g)</th>\n",
       "      <th>FA_Poly_(g)</th>\n",
       "      <th>Cholestrl_(mg)</th>\n",
       "      <th>GmWt_1</th>\n",
       "      <th>GmWt_Desc1</th>\n",
       "      <th>GmWt_2</th>\n",
       "      <th>GmWt_Desc2</th>\n",
       "      <th>Refuse_Pct</th>\n",
       "    </tr>\n",
       "  </thead>\n",
       "  <tbody>\n",
       "    <tr>\n",
       "      <th>0</th>\n",
       "      <td>0</td>\n",
       "      <td>1001</td>\n",
       "      <td>Paleo Eba Swallow with Okra Soup and Snail</td>\n",
       "      <td>86.0</td>\n",
       "      <td>590</td>\n",
       "      <td>3.0</td>\n",
       "      <td>2.0</td>\n",
       "      <td>1.0</td>\n",
       "      <td>8.0</td>\n",
       "      <td>1.6</td>\n",
       "      <td>...</td>\n",
       "      <td>0.0</td>\n",
       "      <td>1.387</td>\n",
       "      <td>5.695</td>\n",
       "      <td>3.147</td>\n",
       "      <td>1.0</td>\n",
       "      <td>73.0</td>\n",
       "      <td>1 package,  (1 NLEA serving)</td>\n",
       "      <td>0.0</td>\n",
       "      <td>0</td>\n",
       "      <td>0.0</td>\n",
       "    </tr>\n",
       "    <tr>\n",
       "      <th>1</th>\n",
       "      <td>1</td>\n",
       "      <td>1002</td>\n",
       "      <td>Paleo Eba Swallow with Groundnut Soup and Chicken</td>\n",
       "      <td>74.0</td>\n",
       "      <td>650</td>\n",
       "      <td>8.0</td>\n",
       "      <td>13.0</td>\n",
       "      <td>3.0</td>\n",
       "      <td>74.0</td>\n",
       "      <td>18.1</td>\n",
       "      <td>...</td>\n",
       "      <td>0.0</td>\n",
       "      <td>1.207</td>\n",
       "      <td>2.224</td>\n",
       "      <td>1.839</td>\n",
       "      <td>1.0</td>\n",
       "      <td>45.0</td>\n",
       "      <td>1 packet,  (1 NLEA serving)</td>\n",
       "      <td>0.0</td>\n",
       "      <td>0</td>\n",
       "      <td>0.0</td>\n",
       "    </tr>\n",
       "    <tr>\n",
       "      <th>2</th>\n",
       "      <td>2</td>\n",
       "      <td>1003</td>\n",
       "      <td>Paleo Eba Swallow with Spinach and Fish Stew</td>\n",
       "      <td>65.0</td>\n",
       "      <td>620</td>\n",
       "      <td>6.0</td>\n",
       "      <td>5.0</td>\n",
       "      <td>3.0</td>\n",
       "      <td>22.0</td>\n",
       "      <td>5.5</td>\n",
       "      <td>...</td>\n",
       "      <td>0.0</td>\n",
       "      <td>0.300</td>\n",
       "      <td>0.200</td>\n",
       "      <td>1.200</td>\n",
       "      <td>0.0</td>\n",
       "      <td>56.0</td>\n",
       "      <td>1 Cup,  (1 NLEA serving)</td>\n",
       "      <td>0.0</td>\n",
       "      <td>0</td>\n",
       "      <td>0.0</td>\n",
       "    </tr>\n",
       "    <tr>\n",
       "      <th>3</th>\n",
       "      <td>3</td>\n",
       "      <td>1004</td>\n",
       "      <td>Paleo Eba Swallow with Palm Nut Soup and Goat ...</td>\n",
       "      <td>38.0</td>\n",
       "      <td>670</td>\n",
       "      <td>6.0</td>\n",
       "      <td>6.0</td>\n",
       "      <td>3.0</td>\n",
       "      <td>47.0</td>\n",
       "      <td>0.0</td>\n",
       "      <td>...</td>\n",
       "      <td>0.0</td>\n",
       "      <td>0.400</td>\n",
       "      <td>1.200</td>\n",
       "      <td>1.000</td>\n",
       "      <td>0.0</td>\n",
       "      <td>58.0</td>\n",
       "      <td>1.25 cup,  (1 NLEA serving)</td>\n",
       "      <td>0.0</td>\n",
       "      <td>0</td>\n",
       "      <td>0.0</td>\n",
       "    </tr>\n",
       "    <tr>\n",
       "      <th>4</th>\n",
       "      <td>4</td>\n",
       "      <td>1005</td>\n",
       "      <td>Paleo Eba Swallow with Bitterleaf Soup and Fish</td>\n",
       "      <td>29.0</td>\n",
       "      <td>600</td>\n",
       "      <td>4.0</td>\n",
       "      <td>11.0</td>\n",
       "      <td>1.0</td>\n",
       "      <td>55.0</td>\n",
       "      <td>1.1</td>\n",
       "      <td>...</td>\n",
       "      <td>0.0</td>\n",
       "      <td>0.100</td>\n",
       "      <td>0.100</td>\n",
       "      <td>0.300</td>\n",
       "      <td>0.0</td>\n",
       "      <td>50.0</td>\n",
       "      <td>.75 Cup,  (1 NLEA serving)</td>\n",
       "      <td>0.0</td>\n",
       "      <td>0</td>\n",
       "      <td>0.0</td>\n",
       "    </tr>\n",
       "    <tr>\n",
       "      <th>...</th>\n",
       "      <td>...</td>\n",
       "      <td>...</td>\n",
       "      <td>...</td>\n",
       "      <td>...</td>\n",
       "      <td>...</td>\n",
       "      <td>...</td>\n",
       "      <td>...</td>\n",
       "      <td>...</td>\n",
       "      <td>...</td>\n",
       "      <td>...</td>\n",
       "      <td>...</td>\n",
       "      <td>...</td>\n",
       "      <td>...</td>\n",
       "      <td>...</td>\n",
       "      <td>...</td>\n",
       "      <td>...</td>\n",
       "      <td>...</td>\n",
       "      <td>...</td>\n",
       "      <td>...</td>\n",
       "      <td>...</td>\n",
       "      <td>...</td>\n",
       "    </tr>\n",
       "    <tr>\n",
       "      <th>1632</th>\n",
       "      <td>1632</td>\n",
       "      <td>2633</td>\n",
       "      <td>Brown Rice Raw&amp; Guinea Fowl Egg (Boiled Withou...</td>\n",
       "      <td>70.0</td>\n",
       "      <td>649</td>\n",
       "      <td>28.0</td>\n",
       "      <td>4.0</td>\n",
       "      <td>1.0</td>\n",
       "      <td>0.0</td>\n",
       "      <td>0.0</td>\n",
       "      <td>...</td>\n",
       "      <td>0.0</td>\n",
       "      <td>1.193</td>\n",
       "      <td>1.576</td>\n",
       "      <td>0.793</td>\n",
       "      <td>99.0</td>\n",
       "      <td>85.0</td>\n",
       "      <td>3 oz</td>\n",
       "      <td>195.0</td>\n",
       "      <td>1 piece</td>\n",
       "      <td>0.0</td>\n",
       "    </tr>\n",
       "    <tr>\n",
       "      <th>1633</th>\n",
       "      <td>1633</td>\n",
       "      <td>2634</td>\n",
       "      <td>Brown Rice (Boiled) &amp; Guinea Fowl Egg (Boiled ...</td>\n",
       "      <td>8.0</td>\n",
       "      <td>422</td>\n",
       "      <td>30.0</td>\n",
       "      <td>3.0</td>\n",
       "      <td>2.0</td>\n",
       "      <td>0.0</td>\n",
       "      <td>0.0</td>\n",
       "      <td>...</td>\n",
       "      <td>0.0</td>\n",
       "      <td>1.012</td>\n",
       "      <td>1.325</td>\n",
       "      <td>0.713</td>\n",
       "      <td>106.0</td>\n",
       "      <td>85.0</td>\n",
       "      <td>3 oz</td>\n",
       "      <td>192.0</td>\n",
       "      <td>1 piece</td>\n",
       "      <td>0.0</td>\n",
       "    </tr>\n",
       "    <tr>\n",
       "      <th>1634</th>\n",
       "      <td>1634</td>\n",
       "      <td>2635</td>\n",
       "      <td>Polished Rice Raw&amp; Guinea Fowl Egg (Boiled Wit...</td>\n",
       "      <td>70.0</td>\n",
       "      <td>638</td>\n",
       "      <td>2.0</td>\n",
       "      <td>3.0</td>\n",
       "      <td>2.0</td>\n",
       "      <td>9.0</td>\n",
       "      <td>0.4</td>\n",
       "      <td>...</td>\n",
       "      <td>22.0</td>\n",
       "      <td>0.820</td>\n",
       "      <td>0.750</td>\n",
       "      <td>1.460</td>\n",
       "      <td>4.0</td>\n",
       "      <td>126.0</td>\n",
       "      <td>.5 cup,  (4 fl oz)</td>\n",
       "      <td>305.0</td>\n",
       "      <td>1 can,  (10.75 oz)</td>\n",
       "      <td>0.0</td>\n",
       "    </tr>\n",
       "    <tr>\n",
       "      <th>1635</th>\n",
       "      <td>1635</td>\n",
       "      <td>2636</td>\n",
       "      <td>White Rice, Cooked With Tomatoes, Tomato Paste...</td>\n",
       "      <td>13.0</td>\n",
       "      <td>426</td>\n",
       "      <td>5.0</td>\n",
       "      <td>1.0</td>\n",
       "      <td>3.0</td>\n",
       "      <td>15.0</td>\n",
       "      <td>6.8</td>\n",
       "      <td>...</td>\n",
       "      <td>1.8</td>\n",
       "      <td>0.340</td>\n",
       "      <td>0.480</td>\n",
       "      <td>0.410</td>\n",
       "      <td>0.0</td>\n",
       "      <td>257.0</td>\n",
       "      <td>1 cup,  (8 fl oz)</td>\n",
       "      <td>312.0</td>\n",
       "      <td>1 can,  (11 oz), undiluted</td>\n",
       "      <td>0.0</td>\n",
       "    </tr>\n",
       "    <tr>\n",
       "      <th>1636</th>\n",
       "      <td>1636</td>\n",
       "      <td>2637</td>\n",
       "      <td>White Rice, Cooked With Diced Carrot, Onions, ...</td>\n",
       "      <td>69.0</td>\n",
       "      <td>454</td>\n",
       "      <td>2.0</td>\n",
       "      <td>2.0</td>\n",
       "      <td>3.0</td>\n",
       "      <td>5.0</td>\n",
       "      <td>0.0</td>\n",
       "      <td>...</td>\n",
       "      <td>0.0</td>\n",
       "      <td>0.397</td>\n",
       "      <td>0.397</td>\n",
       "      <td>0.794</td>\n",
       "      <td>4.0</td>\n",
       "      <td>126.0</td>\n",
       "      <td>1 serving, 1/2 cup</td>\n",
       "      <td>0.0</td>\n",
       "      <td>0</td>\n",
       "      <td>0.0</td>\n",
       "    </tr>\n",
       "  </tbody>\n",
       "</table>\n",
       "<p>1637 rows × 54 columns</p>\n",
       "</div>"
      ],
      "text/plain": [
       "      index  NDB_No                                          Shrt_Desc  \\\n",
       "0         0    1001         Paleo Eba Swallow with Okra Soup and Snail   \n",
       "1         1    1002  Paleo Eba Swallow with Groundnut Soup and Chicken   \n",
       "2         2    1003       Paleo Eba Swallow with Spinach and Fish Stew   \n",
       "3         3    1004  Paleo Eba Swallow with Palm Nut Soup and Goat ...   \n",
       "4         4    1005    Paleo Eba Swallow with Bitterleaf Soup and Fish   \n",
       "...     ...     ...                                                ...   \n",
       "1632   1632    2633  Brown Rice Raw& Guinea Fowl Egg (Boiled Withou...   \n",
       "1633   1633    2634  Brown Rice (Boiled) & Guinea Fowl Egg (Boiled ...   \n",
       "1634   1634    2635  Polished Rice Raw& Guinea Fowl Egg (Boiled Wit...   \n",
       "1635   1635    2636  White Rice, Cooked With Tomatoes, Tomato Paste...   \n",
       "1636   1636    2637  White Rice, Cooked With Diced Carrot, Onions, ...   \n",
       "\n",
       "      Water_(g)  Energ_Kcal  Protein_(g)  Lipid_Tot_(g)  Ash_(g)  \\\n",
       "0          86.0         590          3.0            2.0      1.0   \n",
       "1          74.0         650          8.0           13.0      3.0   \n",
       "2          65.0         620          6.0            5.0      3.0   \n",
       "3          38.0         670          6.0            6.0      3.0   \n",
       "4          29.0         600          4.0           11.0      1.0   \n",
       "...         ...         ...          ...            ...      ...   \n",
       "1632       70.0         649         28.0            4.0      1.0   \n",
       "1633        8.0         422         30.0            3.0      2.0   \n",
       "1634       70.0         638          2.0            3.0      2.0   \n",
       "1635       13.0         426          5.0            1.0      3.0   \n",
       "1636       69.0         454          2.0            2.0      3.0   \n",
       "\n",
       "      Carbohydrt_(g)  Fiber_TD_(g)  ...  Vit_K_(µg)  FA_Sat_(g)  FA_Mono_(g)  \\\n",
       "0                8.0           1.6  ...         0.0       1.387        5.695   \n",
       "1               74.0          18.1  ...         0.0       1.207        2.224   \n",
       "2               22.0           5.5  ...         0.0       0.300        0.200   \n",
       "3               47.0           0.0  ...         0.0       0.400        1.200   \n",
       "4               55.0           1.1  ...         0.0       0.100        0.100   \n",
       "...              ...           ...  ...         ...         ...          ...   \n",
       "1632             0.0           0.0  ...         0.0       1.193        1.576   \n",
       "1633             0.0           0.0  ...         0.0       1.012        1.325   \n",
       "1634             9.0           0.4  ...        22.0       0.820        0.750   \n",
       "1635            15.0           6.8  ...         1.8       0.340        0.480   \n",
       "1636             5.0           0.0  ...         0.0       0.397        0.397   \n",
       "\n",
       "      FA_Poly_(g)  Cholestrl_(mg)  GmWt_1                    GmWt_Desc1  \\\n",
       "0           3.147             1.0    73.0  1 package,  (1 NLEA serving)   \n",
       "1           1.839             1.0    45.0   1 packet,  (1 NLEA serving)   \n",
       "2           1.200             0.0    56.0      1 Cup,  (1 NLEA serving)   \n",
       "3           1.000             0.0    58.0   1.25 cup,  (1 NLEA serving)   \n",
       "4           0.300             0.0    50.0    .75 Cup,  (1 NLEA serving)   \n",
       "...           ...             ...     ...                           ...   \n",
       "1632        0.793            99.0    85.0                          3 oz   \n",
       "1633        0.713           106.0    85.0                          3 oz   \n",
       "1634        1.460             4.0   126.0            .5 cup,  (4 fl oz)   \n",
       "1635        0.410             0.0   257.0             1 cup,  (8 fl oz)   \n",
       "1636        0.794             4.0   126.0            1 serving, 1/2 cup   \n",
       "\n",
       "      GmWt_2                  GmWt_Desc2  Refuse_Pct  \n",
       "0        0.0                           0         0.0  \n",
       "1        0.0                           0         0.0  \n",
       "2        0.0                           0         0.0  \n",
       "3        0.0                           0         0.0  \n",
       "4        0.0                           0         0.0  \n",
       "...      ...                         ...         ...  \n",
       "1632   195.0                     1 piece         0.0  \n",
       "1633   192.0                     1 piece         0.0  \n",
       "1634   305.0          1 can,  (10.75 oz)         0.0  \n",
       "1635   312.0  1 can,  (11 oz), undiluted         0.0  \n",
       "1636     0.0                           0         0.0  \n",
       "\n",
       "[1637 rows x 54 columns]"
      ]
     },
     "execution_count": 7,
     "metadata": {},
     "output_type": "execute_result"
    }
   ],
   "source": [
    "df"
   ]
  },
  {
   "cell_type": "markdown",
   "metadata": {
    "id": "aR-TCR-lp4xy"
   },
   "source": [
    "### we will preprocess the dataset and extract the clusters using an Autoencoder"
   ]
  },
  {
   "cell_type": "code",
   "execution_count": 8,
   "metadata": {
    "colab": {
     "base_uri": "https://localhost:8080/"
    },
    "id": "8WjCVgLmpqC2",
    "outputId": "aff64dc9-ac95-4f77-a495-21739698aab6"
   },
   "outputs": [
    {
     "name": "stdout",
     "output_type": "stream",
     "text": [
      "Epoch 1/50\n",
      "\u001b[1m82/82\u001b[0m \u001b[32m━━━━━━━━━━━━━━━━━━━━\u001b[0m\u001b[37m\u001b[0m \u001b[1m44s\u001b[0m 24ms/step - accuracy: 0.0928 - loss: 0.0227 - val_accuracy: 0.0457 - val_loss: 0.0235\n",
      "Epoch 2/50\n",
      "\u001b[1m82/82\u001b[0m \u001b[32m━━━━━━━━━━━━━━━━━━━━\u001b[0m\u001b[37m\u001b[0m \u001b[1m1s\u001b[0m 8ms/step - accuracy: 0.0981 - loss: 0.0229 - val_accuracy: 0.0427 - val_loss: 0.0228\n",
      "Epoch 3/50\n",
      "\u001b[1m82/82\u001b[0m \u001b[32m━━━━━━━━━━━━━━━━━━━━\u001b[0m\u001b[37m\u001b[0m \u001b[1m1s\u001b[0m 7ms/step - accuracy: 0.1221 - loss: 0.0212 - val_accuracy: 0.0427 - val_loss: 0.0206\n",
      "Epoch 4/50\n",
      "\u001b[1m82/82\u001b[0m \u001b[32m━━━━━━━━━━━━━━━━━━━━\u001b[0m\u001b[37m\u001b[0m \u001b[1m1s\u001b[0m 7ms/step - accuracy: 0.0941 - loss: 0.0182 - val_accuracy: 0.3933 - val_loss: 0.0192\n",
      "Epoch 5/50\n",
      "\u001b[1m82/82\u001b[0m \u001b[32m━━━━━━━━━━━━━━━━━━━━\u001b[0m\u001b[37m\u001b[0m \u001b[1m1s\u001b[0m 8ms/step - accuracy: 0.5162 - loss: 0.0150 - val_accuracy: 0.3933 - val_loss: 0.0184\n",
      "Epoch 6/50\n",
      "\u001b[1m82/82\u001b[0m \u001b[32m━━━━━━━━━━━━━━━━━━━━\u001b[0m\u001b[37m\u001b[0m \u001b[1m1s\u001b[0m 8ms/step - accuracy: 0.5077 - loss: 0.0141 - val_accuracy: 0.5305 - val_loss: 0.0175\n",
      "Epoch 7/50\n",
      "\u001b[1m82/82\u001b[0m \u001b[32m━━━━━━━━━━━━━━━━━━━━\u001b[0m\u001b[37m\u001b[0m \u001b[1m1s\u001b[0m 8ms/step - accuracy: 0.6203 - loss: 0.0133 - val_accuracy: 0.5976 - val_loss: 0.0167\n",
      "Epoch 8/50\n",
      "\u001b[1m82/82\u001b[0m \u001b[32m━━━━━━━━━━━━━━━━━━━━\u001b[0m\u001b[37m\u001b[0m \u001b[1m1s\u001b[0m 9ms/step - accuracy: 0.6937 - loss: 0.0126 - val_accuracy: 0.6524 - val_loss: 0.0162\n",
      "Epoch 9/50\n",
      "\u001b[1m82/82\u001b[0m \u001b[32m━━━━━━━━━━━━━━━━━━━━\u001b[0m\u001b[37m\u001b[0m \u001b[1m1s\u001b[0m 10ms/step - accuracy: 0.7249 - loss: 0.0122 - val_accuracy: 0.6585 - val_loss: 0.0159\n",
      "Epoch 10/50\n",
      "\u001b[1m82/82\u001b[0m \u001b[32m━━━━━━━━━━━━━━━━━━━━\u001b[0m\u001b[37m\u001b[0m \u001b[1m1s\u001b[0m 9ms/step - accuracy: 0.7527 - loss: 0.0122 - val_accuracy: 0.6585 - val_loss: 0.0157\n",
      "Epoch 11/50\n",
      "\u001b[1m82/82\u001b[0m \u001b[32m━━━━━━━━━━━━━━━━━━━━\u001b[0m\u001b[37m\u001b[0m \u001b[1m1s\u001b[0m 9ms/step - accuracy: 0.7667 - loss: 0.0112 - val_accuracy: 0.6585 - val_loss: 0.0155\n",
      "Epoch 12/50\n",
      "\u001b[1m82/82\u001b[0m \u001b[32m━━━━━━━━━━━━━━━━━━━━\u001b[0m\u001b[37m\u001b[0m \u001b[1m1s\u001b[0m 10ms/step - accuracy: 0.7732 - loss: 0.0110 - val_accuracy: 0.6738 - val_loss: 0.0154\n",
      "Epoch 13/50\n",
      "\u001b[1m82/82\u001b[0m \u001b[32m━━━━━━━━━━━━━━━━━━━━\u001b[0m\u001b[37m\u001b[0m \u001b[1m1s\u001b[0m 12ms/step - accuracy: 0.7881 - loss: 0.0108 - val_accuracy: 0.6768 - val_loss: 0.0153\n",
      "Epoch 14/50\n",
      "\u001b[1m82/82\u001b[0m \u001b[32m━━━━━━━━━━━━━━━━━━━━\u001b[0m\u001b[37m\u001b[0m \u001b[1m1s\u001b[0m 9ms/step - accuracy: 0.7842 - loss: 0.0107 - val_accuracy: 0.6890 - val_loss: 0.0151\n",
      "Epoch 15/50\n",
      "\u001b[1m82/82\u001b[0m \u001b[32m━━━━━━━━━━━━━━━━━━━━\u001b[0m\u001b[37m\u001b[0m \u001b[1m1s\u001b[0m 7ms/step - accuracy: 0.7918 - loss: 0.0102 - val_accuracy: 0.6829 - val_loss: 0.0150\n",
      "Epoch 16/50\n",
      "\u001b[1m82/82\u001b[0m \u001b[32m━━━━━━━━━━━━━━━━━━━━\u001b[0m\u001b[37m\u001b[0m \u001b[1m1s\u001b[0m 8ms/step - accuracy: 0.7869 - loss: 0.0104 - val_accuracy: 0.6860 - val_loss: 0.0149\n",
      "Epoch 17/50\n",
      "\u001b[1m82/82\u001b[0m \u001b[32m━━━━━━━━━━━━━━━━━━━━\u001b[0m\u001b[37m\u001b[0m \u001b[1m1s\u001b[0m 11ms/step - accuracy: 0.7994 - loss: 0.0103 - val_accuracy: 0.6860 - val_loss: 0.0148\n",
      "Epoch 18/50\n",
      "\u001b[1m82/82\u001b[0m \u001b[32m━━━━━━━━━━━━━━━━━━━━\u001b[0m\u001b[37m\u001b[0m \u001b[1m1s\u001b[0m 16ms/step - accuracy: 0.7953 - loss: 0.0106 - val_accuracy: 0.6921 - val_loss: 0.0147\n",
      "Epoch 19/50\n",
      "\u001b[1m82/82\u001b[0m \u001b[32m━━━━━━━━━━━━━━━━━━━━\u001b[0m\u001b[37m\u001b[0m \u001b[1m2s\u001b[0m 16ms/step - accuracy: 0.7940 - loss: 0.0110 - val_accuracy: 0.6982 - val_loss: 0.0146\n",
      "Epoch 20/50\n",
      "\u001b[1m82/82\u001b[0m \u001b[32m━━━━━━━━━━━━━━━━━━━━\u001b[0m\u001b[37m\u001b[0m \u001b[1m2s\u001b[0m 13ms/step - accuracy: 0.7883 - loss: 0.0107 - val_accuracy: 0.6951 - val_loss: 0.0145\n",
      "Epoch 21/50\n",
      "\u001b[1m82/82\u001b[0m \u001b[32m━━━━━━━━━━━━━━━━━━━━\u001b[0m\u001b[37m\u001b[0m \u001b[1m2s\u001b[0m 17ms/step - accuracy: 0.8006 - loss: 0.0107 - val_accuracy: 0.7043 - val_loss: 0.0145\n",
      "Epoch 22/50\n",
      "\u001b[1m82/82\u001b[0m \u001b[32m━━━━━━━━━━━━━━━━━━━━\u001b[0m\u001b[37m\u001b[0m \u001b[1m1s\u001b[0m 12ms/step - accuracy: 0.7874 - loss: 0.0104 - val_accuracy: 0.7073 - val_loss: 0.0144\n",
      "Epoch 23/50\n",
      "\u001b[1m82/82\u001b[0m \u001b[32m━━━━━━━━━━━━━━━━━━━━\u001b[0m\u001b[37m\u001b[0m \u001b[1m1s\u001b[0m 13ms/step - accuracy: 0.7995 - loss: 0.0102 - val_accuracy: 0.7134 - val_loss: 0.0144\n",
      "Epoch 24/50\n",
      "\u001b[1m82/82\u001b[0m \u001b[32m━━━━━━━━━━━━━━━━━━━━\u001b[0m\u001b[37m\u001b[0m \u001b[1m1s\u001b[0m 15ms/step - accuracy: 0.8005 - loss: 0.0102 - val_accuracy: 0.7104 - val_loss: 0.0143\n",
      "Epoch 25/50\n",
      "\u001b[1m82/82\u001b[0m \u001b[32m━━━━━━━━━━━━━━━━━━━━\u001b[0m\u001b[37m\u001b[0m \u001b[1m1s\u001b[0m 9ms/step - accuracy: 0.8155 - loss: 0.0098 - val_accuracy: 0.7165 - val_loss: 0.0143\n",
      "Epoch 26/50\n",
      "\u001b[1m82/82\u001b[0m \u001b[32m━━━━━━━━━━━━━━━━━━━━\u001b[0m\u001b[37m\u001b[0m \u001b[1m1s\u001b[0m 10ms/step - accuracy: 0.7866 - loss: 0.0104 - val_accuracy: 0.7165 - val_loss: 0.0143\n",
      "Epoch 27/50\n",
      "\u001b[1m82/82\u001b[0m \u001b[32m━━━━━━━━━━━━━━━━━━━━\u001b[0m\u001b[37m\u001b[0m \u001b[1m2s\u001b[0m 12ms/step - accuracy: 0.8094 - loss: 0.0103 - val_accuracy: 0.7134 - val_loss: 0.0142\n",
      "Epoch 28/50\n",
      "\u001b[1m82/82\u001b[0m \u001b[32m━━━━━━━━━━━━━━━━━━━━\u001b[0m\u001b[37m\u001b[0m \u001b[1m1s\u001b[0m 13ms/step - accuracy: 0.7978 - loss: 0.0103 - val_accuracy: 0.7195 - val_loss: 0.0142\n",
      "Epoch 29/50\n",
      "\u001b[1m82/82\u001b[0m \u001b[32m━━━━━━━━━━━━━━━━━━━━\u001b[0m\u001b[37m\u001b[0m \u001b[1m1s\u001b[0m 14ms/step - accuracy: 0.8069 - loss: 0.0107 - val_accuracy: 0.7165 - val_loss: 0.0142\n",
      "Epoch 30/50\n",
      "\u001b[1m82/82\u001b[0m \u001b[32m━━━━━━━━━━━━━━━━━━━━\u001b[0m\u001b[37m\u001b[0m \u001b[1m1s\u001b[0m 15ms/step - accuracy: 0.8091 - loss: 0.0103 - val_accuracy: 0.7287 - val_loss: 0.0141\n",
      "Epoch 31/50\n",
      "\u001b[1m82/82\u001b[0m \u001b[32m━━━━━━━━━━━━━━━━━━━━\u001b[0m\u001b[37m\u001b[0m \u001b[1m1s\u001b[0m 14ms/step - accuracy: 0.8190 - loss: 0.0102 - val_accuracy: 0.7317 - val_loss: 0.0141\n",
      "Epoch 32/50\n",
      "\u001b[1m82/82\u001b[0m \u001b[32m━━━━━━━━━━━━━━━━━━━━\u001b[0m\u001b[37m\u001b[0m \u001b[1m1s\u001b[0m 15ms/step - accuracy: 0.8021 - loss: 0.0110 - val_accuracy: 0.7317 - val_loss: 0.0141\n",
      "Epoch 33/50\n",
      "\u001b[1m82/82\u001b[0m \u001b[32m━━━━━━━━━━━━━━━━━━━━\u001b[0m\u001b[37m\u001b[0m \u001b[1m1s\u001b[0m 12ms/step - accuracy: 0.8304 - loss: 0.0105 - val_accuracy: 0.7317 - val_loss: 0.0140\n",
      "Epoch 34/50\n",
      "\u001b[1m82/82\u001b[0m \u001b[32m━━━━━━━━━━━━━━━━━━━━\u001b[0m\u001b[37m\u001b[0m \u001b[1m1s\u001b[0m 12ms/step - accuracy: 0.8072 - loss: 0.0101 - val_accuracy: 0.7317 - val_loss: 0.0140\n",
      "Epoch 35/50\n",
      "\u001b[1m82/82\u001b[0m \u001b[32m━━━━━━━━━━━━━━━━━━━━\u001b[0m\u001b[37m\u001b[0m \u001b[1m1s\u001b[0m 12ms/step - accuracy: 0.8168 - loss: 0.0100 - val_accuracy: 0.7317 - val_loss: 0.0140\n",
      "Epoch 36/50\n",
      "\u001b[1m82/82\u001b[0m \u001b[32m━━━━━━━━━━━━━━━━━━━━\u001b[0m\u001b[37m\u001b[0m \u001b[1m1s\u001b[0m 13ms/step - accuracy: 0.8080 - loss: 0.0098 - val_accuracy: 0.7348 - val_loss: 0.0139\n",
      "Epoch 37/50\n",
      "\u001b[1m82/82\u001b[0m \u001b[32m━━━━━━━━━━━━━━━━━━━━\u001b[0m\u001b[37m\u001b[0m \u001b[1m1s\u001b[0m 13ms/step - accuracy: 0.8240 - loss: 0.0098 - val_accuracy: 0.7378 - val_loss: 0.0139\n",
      "Epoch 38/50\n",
      "\u001b[1m82/82\u001b[0m \u001b[32m━━━━━━━━━━━━━━━━━━━━\u001b[0m\u001b[37m\u001b[0m \u001b[1m1s\u001b[0m 14ms/step - accuracy: 0.8202 - loss: 0.0102 - val_accuracy: 0.7378 - val_loss: 0.0139\n",
      "Epoch 39/50\n",
      "\u001b[1m82/82\u001b[0m \u001b[32m━━━━━━━━━━━━━━━━━━━━\u001b[0m\u001b[37m\u001b[0m \u001b[1m1s\u001b[0m 12ms/step - accuracy: 0.8225 - loss: 0.0098 - val_accuracy: 0.7348 - val_loss: 0.0139\n",
      "Epoch 40/50\n",
      "\u001b[1m82/82\u001b[0m \u001b[32m━━━━━━━━━━━━━━━━━━━━\u001b[0m\u001b[37m\u001b[0m \u001b[1m1s\u001b[0m 13ms/step - accuracy: 0.8226 - loss: 0.0099 - val_accuracy: 0.7500 - val_loss: 0.0138\n",
      "Epoch 41/50\n",
      "\u001b[1m82/82\u001b[0m \u001b[32m━━━━━━━━━━━━━━━━━━━━\u001b[0m\u001b[37m\u001b[0m \u001b[1m1s\u001b[0m 12ms/step - accuracy: 0.8078 - loss: 0.0103 - val_accuracy: 0.7530 - val_loss: 0.0138\n",
      "Epoch 42/50\n",
      "\u001b[1m82/82\u001b[0m \u001b[32m━━━━━━━━━━━━━━━━━━━━\u001b[0m\u001b[37m\u001b[0m \u001b[1m1s\u001b[0m 16ms/step - accuracy: 0.8231 - loss: 0.0108 - val_accuracy: 0.7500 - val_loss: 0.0138\n",
      "Epoch 43/50\n",
      "\u001b[1m82/82\u001b[0m \u001b[32m━━━━━━━━━━━━━━━━━━━━\u001b[0m\u001b[37m\u001b[0m \u001b[1m1s\u001b[0m 11ms/step - accuracy: 0.8076 - loss: 0.0099 - val_accuracy: 0.7530 - val_loss: 0.0138\n",
      "Epoch 44/50\n",
      "\u001b[1m82/82\u001b[0m \u001b[32m━━━━━━━━━━━━━━━━━━━━\u001b[0m\u001b[37m\u001b[0m \u001b[1m1s\u001b[0m 13ms/step - accuracy: 0.8274 - loss: 0.0100 - val_accuracy: 0.7622 - val_loss: 0.0137\n",
      "Epoch 45/50\n",
      "\u001b[1m82/82\u001b[0m \u001b[32m━━━━━━━━━━━━━━━━━━━━\u001b[0m\u001b[37m\u001b[0m \u001b[1m1s\u001b[0m 13ms/step - accuracy: 0.8054 - loss: 0.0105 - val_accuracy: 0.7652 - val_loss: 0.0137\n",
      "Epoch 46/50\n",
      "\u001b[1m82/82\u001b[0m \u001b[32m━━━━━━━━━━━━━━━━━━━━\u001b[0m\u001b[37m\u001b[0m \u001b[1m1s\u001b[0m 12ms/step - accuracy: 0.8160 - loss: 0.0099 - val_accuracy: 0.7683 - val_loss: 0.0137\n",
      "Epoch 47/50\n",
      "\u001b[1m82/82\u001b[0m \u001b[32m━━━━━━━━━━━━━━━━━━━━\u001b[0m\u001b[37m\u001b[0m \u001b[1m2s\u001b[0m 14ms/step - accuracy: 0.8183 - loss: 0.0104 - val_accuracy: 0.7652 - val_loss: 0.0136\n",
      "Epoch 48/50\n",
      "\u001b[1m82/82\u001b[0m \u001b[32m━━━━━━━━━━━━━━━━━━━━\u001b[0m\u001b[37m\u001b[0m \u001b[1m1s\u001b[0m 12ms/step - accuracy: 0.8257 - loss: 0.0099 - val_accuracy: 0.7591 - val_loss: 0.0136\n",
      "Epoch 49/50\n",
      "\u001b[1m82/82\u001b[0m \u001b[32m━━━━━━━━━━━━━━━━━━━━\u001b[0m\u001b[37m\u001b[0m \u001b[1m1s\u001b[0m 15ms/step - accuracy: 0.8259 - loss: 0.0100 - val_accuracy: 0.7622 - val_loss: 0.0136\n",
      "Epoch 50/50\n",
      "\u001b[1m82/82\u001b[0m \u001b[32m━━━━━━━━━━━━━━━━━━━━\u001b[0m\u001b[37m\u001b[0m \u001b[1m1s\u001b[0m 15ms/step - accuracy: 0.8243 - loss: 0.0100 - val_accuracy: 0.7683 - val_loss: 0.0136\n"
     ]
    },
    {
     "data": {
      "text/plain": [
       "<keras.src.callbacks.history.History at 0x1f4952e9f70>"
      ]
     },
     "execution_count": 8,
     "metadata": {},
     "output_type": "execute_result"
    }
   ],
   "source": [
    "# Feature Scaling\n",
    "scaler = MinMaxScaler()\n",
    "X_scaled = scaler.fit_transform(X)\n",
    "\n",
    "# Autoencoder\n",
    "from keras.layers import Input, Dense\n",
    "from keras.models import Model \n",
    "\n",
    "# Set the encoding dimension\n",
    "encoding_dim = 3\n",
    "\n",
    "# Input layer\n",
    "input_layer = Input(shape=(X.shape[1],))\n",
    "\n",
    "# Encoder layers\n",
    "encoder = Dense(encoding_dim, activation='relu')(input_layer)\n",
    "\n",
    "# Decoder layers\n",
    "decoder = Dense(X.shape[1], activation='softmax')(encoder)\n",
    "\n",
    "# Autoencoder model\n",
    "autoencoder = Model(inputs=input_layer, outputs=decoder)\n",
    "\n",
    "# Compile and train the autoencoder\n",
    "autoencoder.compile(optimizer='adam', loss='mean_squared_error', metrics=['accuracy'])\n",
    "autoencoder.fit(X_scaled, X_scaled, epochs=50, batch_size=16, shuffle=True, validation_split=0.2)"
   ]
  },
  {
   "cell_type": "markdown",
   "metadata": {
    "id": "peqjDgEXp8eL"
   },
   "source": [
    "### After training the autoencoder, we can extract the encoded features:"
   ]
  },
  {
   "cell_type": "code",
   "execution_count": 9,
   "metadata": {
    "colab": {
     "base_uri": "https://localhost:8080/"
    },
    "id": "iu5X1Y6_p8-6",
    "outputId": "b4c3c9ab-2c23-40ae-986b-4c64e6627757"
   },
   "outputs": [
    {
     "name": "stdout",
     "output_type": "stream",
     "text": [
      "\u001b[1m52/52\u001b[0m \u001b[32m━━━━━━━━━━━━━━━━━━━━\u001b[0m\u001b[37m\u001b[0m \u001b[1m1s\u001b[0m 7ms/step\n"
     ]
    }
   ],
   "source": [
    "# Extract encoded features\n",
    "encoder = Model(inputs=input_layer, outputs=encoder)\n",
    "encoded_features = encoder.predict(X_scaled)"
   ]
  },
  {
   "cell_type": "markdown",
   "metadata": {
    "id": "4ro7IsWMp_Rq"
   },
   "source": [
    "### Now, we can apply K-means clustering to group the samples into three clusters:"
   ]
  },
  {
   "cell_type": "code",
   "execution_count": null,
   "metadata": {
    "id": "NIvueiR959Rx"
   },
   "outputs": [],
   "source": []
  },
  {
   "cell_type": "code",
   "execution_count": 10,
   "metadata": {
    "id": "B7-ZNlEFqBQ_"
   },
   "outputs": [],
   "source": [
    "# Apply K-means clustering\n",
    "kmeans = KMeans(n_clusters=3, random_state=42)\n",
    "kmeans.fit(encoded_features)\n",
    "clusters = kmeans.predict(encoded_features)\n",
    "\n",
    "high_caloric = encoded_features[clusters == 0]\n",
    "mid_caloric = encoded_features[clusters == 1]\n",
    "low_caloric = encoded_features[clusters == 2]\n",
    "df['cluster'] = clusters"
   ]
  },
  {
   "cell_type": "code",
   "execution_count": 11,
   "metadata": {
    "colab": {
     "base_uri": "https://localhost:8080/",
     "height": 438
    },
    "id": "S59dIUCCRZ84",
    "outputId": "d30be518-6c45-4ca4-dbf7-5e4989a586c2"
   },
   "outputs": [
    {
     "data": {
      "image/png": "[encoded data removed]",
      "text/plain": [
       "<Figure size 640x480 with 1 Axes>"
      ]
     },
     "metadata": {},
     "output_type": "display_data"
    }
   ],
   "source": [
    "# Visualize the clusters\n",
    "fig = plt.figure()\n",
    "ax = fig.add_subplot(111, projection='3d')\n",
    "\n",
    "# Plot the high-caloric food cluster\n",
    "ax.scatter(high_caloric[:, 0], high_caloric[:, 1], high_caloric[:, 2], c='r', label='High-Caloric')\n",
    "\n",
    "# Plot the mid-caloric food cluster\n",
    "ax.scatter(mid_caloric[:, 0], mid_caloric[:, 1], mid_caloric[:, 2], c='g', label='Mid-Caloric')\n",
    "\n",
    "# Plot the low-caloric food cluster\n",
    "ax.scatter(low_caloric[:, 0], low_caloric[:, 1], low_caloric[:, 2], c='b', label='Low-Caloric')\n",
    "\n",
    "ax.set_xlabel('Dimension 1')\n",
    "ax.set_ylabel('Dimension 2')\n",
    "ax.set_zlabel('Dimension 3')\n",
    "\n",
    "ax.legend()\n",
    "plt.title('Cluster Visualization')\n",
    "plt.show()"
   ]
  },
  {
   "cell_type": "code",
   "execution_count": 12,
   "metadata": {
    "colab": {
     "base_uri": "https://localhost:8080/"
    },
    "id": "W9eg7F7e6pzP",
    "outputId": "116ce861-47c0-4b16-c41b-ea075cc5590b"
   },
   "outputs": [
    {
     "data": {
      "text/plain": [
       "array([[2.9317336, 2.1480427, 2.0745637],\n",
       "       [3.1327884, 1.0486313, 3.6670175],\n",
       "       [2.5306554, 1.4548358, 2.943086 ],\n",
       "       ...,\n",
       "       [2.7031705, 1.9600594, 2.2851603],\n",
       "       [1.7962625, 0.8622816, 2.037246 ],\n",
       "       [2.4608252, 1.8197005, 1.4849322]], dtype=float32)"
      ]
     },
     "execution_count": 12,
     "metadata": {},
     "output_type": "execute_result"
    }
   ],
   "source": [
    "encoded_features"
   ]
  },
  {
   "cell_type": "markdown",
   "metadata": {
    "id": "CnguHk8EqDWA"
   },
   "source": [
    "### Next, we can generate the right food diets using Particle Swarm Optimization (PSO) for the CNN model:"
   ]
  },
  {
   "cell_type": "code",
   "execution_count": 13,
   "metadata": {
    "colab": {
     "base_uri": "https://localhost:8080/"
    },
    "id": "9wKp8hNOqbsm",
    "outputId": "a2889cd0-6e24-43c3-9b8b-0c59018cf2ae"
   },
   "outputs": [
    {
     "name": "stdout",
     "output_type": "stream",
     "text": [
      "Collecting pyswarms\n",
      "  Downloading pyswarms-1.3.0-py2.py3-none-any.whl.metadata (33 kB)\n",
      "Requirement already satisfied: scipy in c:\\users\\user\\tf-env\\lib\\site-packages (from pyswarms) (1.16.0)\n",
      "Requirement already satisfied: numpy in c:\\users\\user\\tf-env\\lib\\site-packages (from pyswarms) (2.1.3)\n",
      "Requirement already satisfied: matplotlib>=1.3.1 in c:\\users\\user\\tf-env\\lib\\site-packages (from pyswarms) (3.10.3)\n",
      "Requirement already satisfied: attrs in c:\\users\\user\\tf-env\\lib\\site-packages (from pyswarms) (25.3.0)\n",
      "Collecting tqdm (from pyswarms)\n",
      "  Using cached tqdm-4.67.1-py3-none-any.whl.metadata (57 kB)\n",
      "Collecting future (from pyswarms)\n",
      "  Downloading future-1.0.0-py3-none-any.whl.metadata (4.0 kB)\n",
      "Requirement already satisfied: pyyaml in c:\\users\\user\\tf-env\\lib\\site-packages (from pyswarms) (6.0.2)\n",
      "Requirement already satisfied: contourpy>=1.0.1 in c:\\users\\user\\tf-env\\lib\\site-packages (from matplotlib>=1.3.1->pyswarms) (1.3.2)\n",
      "Requirement already satisfied: cycler>=0.10 in c:\\users\\user\\tf-env\\lib\\site-packages (from matplotlib>=1.3.1->pyswarms) (0.12.1)\n",
      "Requirement already satisfied: fonttools>=4.22.0 in c:\\users\\user\\tf-env\\lib\\site-packages (from matplotlib>=1.3.1->pyswarms) (4.58.4)\n",
      "Requirement already satisfied: kiwisolver>=1.3.1 in c:\\users\\user\\tf-env\\lib\\site-packages (from matplotlib>=1.3.1->pyswarms) (1.4.8)\n",
      "Requirement already satisfied: packaging>=20.0 in c:\\users\\user\\tf-env\\lib\\site-packages (from matplotlib>=1.3.1->pyswarms) (25.0)\n",
      "Requirement already satisfied: pillow>=8 in c:\\users\\user\\tf-env\\lib\\site-packages (from matplotlib>=1.3.1->pyswarms) (11.2.1)\n",
      "Requirement already satisfied: pyparsing>=2.3.1 in c:\\users\\user\\tf-env\\lib\\site-packages (from matplotlib>=1.3.1->pyswarms) (3.2.3)\n",
      "Requirement already satisfied: python-dateutil>=2.7 in c:\\users\\user\\tf-env\\lib\\site-packages (from matplotlib>=1.3.1->pyswarms) (2.9.0.post0)\n",
      "Requirement already satisfied: colorama in c:\\users\\user\\tf-env\\lib\\site-packages (from tqdm->pyswarms) (0.4.6)\n",
      "Requirement already satisfied: six>=1.5 in c:\\users\\user\\tf-env\\lib\\site-packages (from python-dateutil>=2.7->matplotlib>=1.3.1->pyswarms) (1.17.0)\n",
      "Downloading pyswarms-1.3.0-py2.py3-none-any.whl (104 kB)\n",
      "   ---------------------------------------- 0.0/104.1 kB ? eta -:--:--\n",
      "   ---------------------------------------- 0.0/104.1 kB ? eta -:--:--\n",
      "   ---------------------------------------- 0.0/104.1 kB ? eta -:--:--\n",
      "   ---------------------------------------- 0.0/104.1 kB ? eta -:--:--\n",
      "   ---------------------------------------- 0.0/104.1 kB ? eta -:--:--\n",
      "   ---------------------------------------- 0.0/104.1 kB ? eta -:--:--\n",
      "   ---------------------------------------- 0.0/104.1 kB ? eta -:--:--\n",
      "   ---------------------------------------- 0.0/104.1 kB ? eta -:--:--\n",
      "   ---------------------------------------- 0.0/104.1 kB ? eta -:--:--\n",
      "   ---------------------------------------- 0.0/104.1 kB ? eta -:--:--\n",
      "   ---------------------------------------- 0.0/104.1 kB ? eta -:--:--\n",
      "   ---------------------------------------- 0.0/104.1 kB ? eta -:--:--\n",
      "   ---------------------------------------- 0.0/104.1 kB ? eta -:--:--\n",
      "   ---------------------------------------- 0.0/104.1 kB ? eta -:--:--\n",
      "   ---------------------------------------- 0.0/104.1 kB ? eta -:--:--\n",
      "   ---------------------------------------- 0.0/104.1 kB ? eta -:--:--\n",
      "   ---------------------------------------- 0.0/104.1 kB ? eta -:--:--\n",
      "   ---------------------------------------- 0.0/104.1 kB ? eta -:--:--\n",
      "   ---------------------------------------- 0.0/104.1 kB ? eta -:--:--\n",
      "   ---------------------------------------- 0.0/104.1 kB ? eta -:--:--\n",
      "   ---------------------------------------- 0.0/104.1 kB ? eta -:--:--\n",
      "   ---------------------------------------- 0.0/104.1 kB ? eta -:--:--\n",
      "   ---------------------------------------- 0.0/104.1 kB ? eta -:--:--\n",
      "   ---------------------------------------- 0.0/104.1 kB ? eta -:--:--\n",
      "   ---------------------------------------- 0.0/104.1 kB ? eta -:--:--\n",
      "   ---------------------------------------- 0.0/104.1 kB ? eta -:--:--\n",
      "   ---------------------------------------- 0.0/104.1 kB ? eta -:--:--\n",
      "   ---------------------------------------- 0.0/104.1 kB ? eta -:--:--\n",
      "   ---------------------------------------- 0.0/104.1 kB ? eta -:--:--\n",
      "   ---------------------------------------- 0.0/104.1 kB ? eta -:--:--\n",
      "   ---------------------------------------- 0.0/104.1 kB ? eta -:--:--\n",
      "   ---------------------------------------- 0.0/104.1 kB ? eta -:--:--\n",
      "   ---------------------------------------- 0.0/104.1 kB ? eta -:--:--\n",
      "   ---------------------------------------- 0.0/104.1 kB ? eta -:--:--\n",
      "   ---------------------------------------- 0.0/104.1 kB ? eta -:--:--\n",
      "   ---------------------------------------- 0.0/104.1 kB ? eta -:--:--\n",
      "   ---------------------------------------- 0.0/104.1 kB ? eta -:--:--\n",
      "   ---------------------------------------- 0.0/104.1 kB ? eta -:--:--\n",
      "   ---------------------------------------- 0.0/104.1 kB ? eta -:--:--\n",
      "   ---------------------------------------- 0.0/104.1 kB ? eta -:--:--\n",
      "   ---------------------------------------- 0.0/104.1 kB ? eta -:--:--\n",
      "   ---------------------------------------- 0.0/104.1 kB ? eta -:--:--\n",
      "   ---------------------------------------- 0.0/104.1 kB ? eta -:--:--\n",
      "   ---------------------------------------- 0.0/104.1 kB ? eta -:--:--\n",
      "   ---------------------------------------- 0.0/104.1 kB ? eta -:--:--\n",
      "   ---------------------------------------- 0.0/104.1 kB ? eta -:--:--\n",
      "   ---------------------------------------- 0.0/104.1 kB ? eta -:--:--\n",
      "   ---------------------------------------- 0.0/104.1 kB ? eta -:--:--\n",
      "   ---------------------------------------- 0.0/104.1 kB ? eta -:--:--\n",
      "   ---------------------------------------- 0.0/104.1 kB ? eta -:--:--\n",
      "   ---------------------------------------- 0.0/104.1 kB ? eta -:--:--\n",
      "   ---------------------------------------- 0.0/104.1 kB ? eta -:--:--\n",
      "   ---------------------------------------- 0.0/104.1 kB ? eta -:--:--\n",
      "   ---------------------------------------- 0.0/104.1 kB ? eta -:--:--\n",
      "   ---------------------------------------- 0.0/104.1 kB ? eta -:--:--\n",
      "   ---------------------------------------- 0.0/104.1 kB ? eta -:--:--\n",
      "   ---------------------------------------- 0.0/104.1 kB ? eta -:--:--\n",
      "   ---------------------------------------- 0.0/104.1 kB ? eta -:--:--\n",
      "   ---------------------------------------- 0.0/104.1 kB ? eta -:--:--\n",
      "   ---------------------------------------- 0.0/104.1 kB ? eta -:--:--\n",
      "   ---------------------------------------- 0.0/104.1 kB ? eta -:--:--\n",
      "   ---------------------------------------- 0.0/104.1 kB ? eta -:--:--\n",
      "   ---------------------------------------- 0.0/104.1 kB ? eta -:--:--\n",
      "   ---------------------------------------- 0.0/104.1 kB ? eta -:--:--\n",
      "   ---------------------------------------- 0.0/104.1 kB ? eta -:--:--\n",
      "   ---------------------------------------- 0.0/104.1 kB ? eta -:--:--\n",
      "   ---------------------------------------- 0.0/104.1 kB ? eta -:--:--\n",
      "   ---------------------------------------- 0.0/104.1 kB ? eta -:--:--\n",
      "   ---------------------------------------- 0.0/104.1 kB ? eta -:--:--\n",
      "   ---------------------------------------- 0.0/104.1 kB ? eta -:--:--\n",
      "   ---------------------------------------- 0.0/104.1 kB ? eta -:--:--\n",
      "   ---------------------------------------- 0.0/104.1 kB ? eta -:--:--\n",
      "   ---------------------------------------- 0.0/104.1 kB ? eta -:--:--\n",
      "   ---------------------------------------- 0.0/104.1 kB ? eta -:--:--\n",
      "   ---------------------------------------- 0.0/104.1 kB ? eta -:--:--\n",
      "   ---------------------------------------- 0.0/104.1 kB ? eta -:--:--\n",
      "   ---------------------------------------- 0.0/104.1 kB ? eta -:--:--\n",
      "   ---------------------------------------- 0.0/104.1 kB ? eta -:--:--\n",
      "   ---------------------------------------- 0.0/104.1 kB ? eta -:--:--\n",
      "   ----------- --------------------------- 30.7/104.1 kB 640.0 kB/s eta 0:00:01\n",
      "   ----------- --------------------------- 30.7/104.1 kB 640.0 kB/s eta 0:00:01\n",
      "   ----------- --------------------------- 30.7/104.1 kB 640.0 kB/s eta 0:00:01\n",
      "   ----------- --------------------------- 30.7/104.1 kB 640.0 kB/s eta 0:00:01\n",
      "   ----------- --------------------------- 30.7/104.1 kB 640.0 kB/s eta 0:00:01\n",
      "   ----------- --------------------------- 30.7/104.1 kB 640.0 kB/s eta 0:00:01\n",
      "   ----------- --------------------------- 30.7/104.1 kB 640.0 kB/s eta 0:00:01\n",
      "   ----------- --------------------------- 30.7/104.1 kB 640.0 kB/s eta 0:00:01\n",
      "   ----------- --------------------------- 30.7/104.1 kB 640.0 kB/s eta 0:00:01\n",
      "   ----------- --------------------------- 30.7/104.1 kB 640.0 kB/s eta 0:00:01\n",
      "   ----------- --------------------------- 30.7/104.1 kB 640.0 kB/s eta 0:00:01\n",
      "   ----------------------- ---------------- 61.4/104.1 kB 96.2 kB/s eta 0:00:01\n",
      "   ----------------------- ---------------- 61.4/104.1 kB 96.2 kB/s eta 0:00:01\n",
      "   ----------------------- ---------------- 61.4/104.1 kB 96.2 kB/s eta 0:00:01\n",
      "   ----------------------- ---------------- 61.4/104.1 kB 96.2 kB/s eta 0:00:01\n",
      "   ----------------------- ---------------- 61.4/104.1 kB 96.2 kB/s eta 0:00:01\n",
      "   ----------------------- ---------------- 61.4/104.1 kB 96.2 kB/s eta 0:00:01\n",
      "   ----------------------- ---------------- 61.4/104.1 kB 96.2 kB/s eta 0:00:01\n",
      "   ----------------------- ---------------- 61.4/104.1 kB 96.2 kB/s eta 0:00:01\n",
      "   ----------------------- ---------------- 61.4/104.1 kB 96.2 kB/s eta 0:00:01\n",
      "   ----------------------- ---------------- 61.4/104.1 kB 96.2 kB/s eta 0:00:01\n",
      "   ----------------------- ---------------- 61.4/104.1 kB 96.2 kB/s eta 0:00:01\n",
      "   ----------------------- ---------------- 61.4/104.1 kB 96.2 kB/s eta 0:00:01\n",
      "   ----------------------- ---------------- 61.4/104.1 kB 96.2 kB/s eta 0:00:01\n",
      "   ----------------------- ---------------- 61.4/104.1 kB 96.2 kB/s eta 0:00:01\n",
      "   ----------------------- ---------------- 61.4/104.1 kB 96.2 kB/s eta 0:00:01\n",
      "   ----------------------- ---------------- 61.4/104.1 kB 96.2 kB/s eta 0:00:01\n",
      "   ----------------------- ---------------- 61.4/104.1 kB 96.2 kB/s eta 0:00:01\n",
      "   ----------------------- ---------------- 61.4/104.1 kB 96.2 kB/s eta 0:00:01\n",
      "   ----------------------- ---------------- 61.4/104.1 kB 96.2 kB/s eta 0:00:01\n",
      "   ----------------------- ---------------- 61.4/104.1 kB 96.2 kB/s eta 0:00:01\n",
      "   ----------------------- ---------------- 61.4/104.1 kB 96.2 kB/s eta 0:00:01\n",
      "   ----------------------- ---------------- 61.4/104.1 kB 96.2 kB/s eta 0:00:01\n",
      "   ----------------------- ---------------- 61.4/104.1 kB 96.2 kB/s eta 0:00:01\n",
      "   ----------------------- ---------------- 61.4/104.1 kB 96.2 kB/s eta 0:00:01\n",
      "   ----------------------- ---------------- 61.4/104.1 kB 96.2 kB/s eta 0:00:01\n",
      "   ----------------------- ---------------- 61.4/104.1 kB 96.2 kB/s eta 0:00:01\n",
      "   ----------------------- ---------------- 61.4/104.1 kB 96.2 kB/s eta 0:00:01\n",
      "   ----------------------- ---------------- 61.4/104.1 kB 96.2 kB/s eta 0:00:01\n",
      "   ----------------------- ---------------- 61.4/104.1 kB 96.2 kB/s eta 0:00:01\n",
      "   ----------------------- ---------------- 61.4/104.1 kB 96.2 kB/s eta 0:00:01\n",
      "   ----------------------- ---------------- 61.4/104.1 kB 96.2 kB/s eta 0:00:01\n",
      "   ----------------------- ---------------- 61.4/104.1 kB 96.2 kB/s eta 0:00:01\n",
      "   ----------------------- ---------------- 61.4/104.1 kB 96.2 kB/s eta 0:00:01\n",
      "   ----------------------- ---------------- 61.4/104.1 kB 96.2 kB/s eta 0:00:01\n",
      "   ----------------------- ---------------- 61.4/104.1 kB 96.2 kB/s eta 0:00:01\n",
      "   ----------------------- ---------------- 61.4/104.1 kB 96.2 kB/s eta 0:00:01\n",
      "   ----------------------- ---------------- 61.4/104.1 kB 96.2 kB/s eta 0:00:01\n",
      "   ----------------------- ---------------- 61.4/104.1 kB 96.2 kB/s eta 0:00:01\n",
      "   ----------------------- ---------------- 61.4/104.1 kB 96.2 kB/s eta 0:00:01\n",
      "   ----------------------- ---------------- 61.4/104.1 kB 96.2 kB/s eta 0:00:01\n",
      "   ----------------------- ---------------- 61.4/104.1 kB 96.2 kB/s eta 0:00:01\n",
      "   ----------------------- ---------------- 61.4/104.1 kB 96.2 kB/s eta 0:00:01\n",
      "   ----------------------- ---------------- 61.4/104.1 kB 96.2 kB/s eta 0:00:01\n",
      "   ----------------------- ---------------- 61.4/104.1 kB 96.2 kB/s eta 0:00:01\n",
      "   ----------------------- ---------------- 61.4/104.1 kB 96.2 kB/s eta 0:00:01\n",
      "   ----------------------- ---------------- 61.4/104.1 kB 96.2 kB/s eta 0:00:01\n",
      "   ----------------------- ---------------- 61.4/104.1 kB 96.2 kB/s eta 0:00:01\n",
      "   ----------------------- ---------------- 61.4/104.1 kB 96.2 kB/s eta 0:00:01\n",
      "   ----------------------- ---------------- 61.4/104.1 kB 96.2 kB/s eta 0:00:01\n",
      "   ----------------------- ---------------- 61.4/104.1 kB 96.2 kB/s eta 0:00:01\n",
      "   ----------------------- ---------------- 61.4/104.1 kB 96.2 kB/s eta 0:00:01\n",
      "   ----------------------- ---------------- 61.4/104.1 kB 96.2 kB/s eta 0:00:01\n",
      "   ----------------------- ---------------- 61.4/104.1 kB 96.2 kB/s eta 0:00:01\n",
      "   ----------------------------------- ---- 92.2/104.1 kB 27.2 kB/s eta 0:00:01\n",
      "   ----------------------------------- ---- 92.2/104.1 kB 27.2 kB/s eta 0:00:01\n",
      "   ----------------------------------- ---- 92.2/104.1 kB 27.2 kB/s eta 0:00:01\n",
      "   ----------------------------------- ---- 92.2/104.1 kB 27.2 kB/s eta 0:00:01\n",
      "   ----------------------------------- ---- 92.2/104.1 kB 27.2 kB/s eta 0:00:01\n",
      "   ----------------------------------- ---- 92.2/104.1 kB 27.2 kB/s eta 0:00:01\n",
      "   ----------------------------------- ---- 92.2/104.1 kB 27.2 kB/s eta 0:00:01\n",
      "   ----------------------------------- ---- 92.2/104.1 kB 27.2 kB/s eta 0:00:01\n",
      "   ----------------------------------- ---- 92.2/104.1 kB 27.2 kB/s eta 0:00:01\n",
      "   ----------------------------------- ---- 92.2/104.1 kB 27.2 kB/s eta 0:00:01\n",
      "   ----------------------------------- ---- 92.2/104.1 kB 27.2 kB/s eta 0:00:01\n",
      "   ----------------------------------- ---- 92.2/104.1 kB 27.2 kB/s eta 0:00:01\n",
      "   ----------------------------------- ---- 92.2/104.1 kB 27.2 kB/s eta 0:00:01\n",
      "   ----------------------------------- ---- 92.2/104.1 kB 27.2 kB/s eta 0:00:01\n",
      "   ----------------------------------- ---- 92.2/104.1 kB 27.2 kB/s eta 0:00:01\n",
      "   ----------------------------------- ---- 92.2/104.1 kB 27.2 kB/s eta 0:00:01\n",
      "   --------------------------------------  102.4/104.1 kB 24.3 kB/s eta 0:00:01\n",
      "   --------------------------------------  102.4/104.1 kB 24.3 kB/s eta 0:00:01\n",
      "   --------------------------------------  102.4/104.1 kB 24.3 kB/s eta 0:00:01\n",
      "   --------------------------------------- 104.1/104.1 kB 23.9 kB/s eta 0:00:00\n",
      "Downloading future-1.0.0-py3-none-any.whl (491 kB)\n",
      "   ---------------------------------------- 0.0/491.3 kB ? eta -:--:--\n",
      "   ---------------------------------------- 0.0/491.3 kB ? eta -:--:--\n",
      "   ---------------------------------------- 0.0/491.3 kB ? eta -:--:--\n",
      "   ---------------------------------------- 0.0/491.3 kB ? eta -:--:--\n",
      "   ---------------------------------------- 0.0/491.3 kB ? eta -:--:--\n",
      "   ---------------------------------------- 0.0/491.3 kB ? eta -:--:--\n",
      "   ---------------------------------------- 0.0/491.3 kB ? eta -:--:--\n",
      "   ---------------------------------------- 0.0/491.3 kB ? eta -:--:--\n",
      "   ---------------------------------------- 0.0/491.3 kB ? eta -:--:--\n",
      "   ---------------------------------------- 0.0/491.3 kB ? eta -:--:--\n",
      "   ---------------------------------------- 0.0/491.3 kB ? eta -:--:--\n",
      "   ---------------------------------------- 0.0/491.3 kB ? eta -:--:--\n",
      "   ---------------------------------------- 0.0/491.3 kB ? eta -:--:--\n",
      "   ---------------------------------------- 0.0/491.3 kB ? eta -:--:--\n",
      "   ---------------------------------------- 0.0/491.3 kB ? eta -:--:--\n",
      "    --------------------------------------- 10.2/491.3 kB ? eta -:--:--\n",
      "    --------------------------------------- 10.2/491.3 kB ? eta -:--:--\n",
      "    --------------------------------------- 10.2/491.3 kB ? eta -:--:--\n",
      "    --------------------------------------- 10.2/491.3 kB ? eta -:--:--\n",
      "    --------------------------------------- 10.2/491.3 kB ? eta -:--:--\n",
      "    --------------------------------------- 10.2/491.3 kB ? eta -:--:--\n",
      "    --------------------------------------- 10.2/491.3 kB ? eta -:--:--\n",
      "    --------------------------------------- 10.2/491.3 kB ? eta -:--:--\n",
      "    --------------------------------------- 10.2/491.3 kB ? eta -:--:--\n",
      "    --------------------------------------- 10.2/491.3 kB ? eta -:--:--\n",
      "    --------------------------------------- 10.2/491.3 kB ? eta -:--:--\n",
      "    --------------------------------------- 10.2/491.3 kB ? eta -:--:--\n",
      "    --------------------------------------- 10.2/491.3 kB ? eta -:--:--\n",
      "    --------------------------------------- 10.2/491.3 kB ? eta -:--:--\n",
      "    --------------------------------------- 10.2/491.3 kB ? eta -:--:--\n",
      "    --------------------------------------- 10.2/491.3 kB ? eta -:--:--\n",
      "    --------------------------------------- 10.2/491.3 kB ? eta -:--:--\n",
      "    --------------------------------------- 10.2/491.3 kB ? eta -:--:--\n",
      "    --------------------------------------- 10.2/491.3 kB ? eta -:--:--\n",
      "    --------------------------------------- 10.2/491.3 kB ? eta -:--:--\n",
      "    --------------------------------------- 10.2/491.3 kB ? eta -:--:--\n",
      "    --------------------------------------- 10.2/491.3 kB ? eta -:--:--\n",
      "    --------------------------------------- 10.2/491.3 kB ? eta -:--:--\n",
      "    --------------------------------------- 10.2/491.3 kB ? eta -:--:--\n",
      "    --------------------------------------- 10.2/491.3 kB ? eta -:--:--\n",
      "    --------------------------------------- 10.2/491.3 kB ? eta -:--:--\n",
      "    --------------------------------------- 10.2/491.3 kB ? eta -:--:--\n",
      "    --------------------------------------- 10.2/491.3 kB ? eta -:--:--\n",
      "    --------------------------------------- 10.2/491.3 kB ? eta -:--:--\n",
      "    --------------------------------------- 10.2/491.3 kB ? eta -:--:--\n",
      "    --------------------------------------- 10.2/491.3 kB ? eta -:--:--\n",
      "    --------------------------------------- 10.2/491.3 kB ? eta -:--:--\n",
      "    --------------------------------------- 10.2/491.3 kB ? eta -:--:--\n",
      "    --------------------------------------- 10.2/491.3 kB ? eta -:--:--\n",
      "    --------------------------------------- 10.2/491.3 kB ? eta -:--:--\n",
      "   --- ------------------------------------ 41.0/491.3 kB 18.2 kB/s eta 0:00:25\n",
      "   --- ------------------------------------ 41.0/491.3 kB 18.2 kB/s eta 0:00:25\n",
      "   --- ------------------------------------ 41.0/491.3 kB 18.2 kB/s eta 0:00:25\n",
      "   --- ------------------------------------ 41.0/491.3 kB 18.2 kB/s eta 0:00:25\n",
      "   --- ------------------------------------ 41.0/491.3 kB 18.2 kB/s eta 0:00:25\n",
      "   --- ------------------------------------ 41.0/491.3 kB 18.2 kB/s eta 0:00:25\n",
      "   --- ------------------------------------ 41.0/491.3 kB 18.2 kB/s eta 0:00:25\n",
      "   --- ------------------------------------ 41.0/491.3 kB 18.2 kB/s eta 0:00:25\n",
      "   --- ------------------------------------ 41.0/491.3 kB 18.2 kB/s eta 0:00:25\n",
      "   --- ------------------------------------ 41.0/491.3 kB 18.2 kB/s eta 0:00:25\n",
      "   --- ------------------------------------ 41.0/491.3 kB 18.2 kB/s eta 0:00:25\n",
      "   --- ------------------------------------ 41.0/491.3 kB 18.2 kB/s eta 0:00:25\n",
      "   --- ------------------------------------ 41.0/491.3 kB 18.2 kB/s eta 0:00:25\n",
      "   --- ------------------------------------ 41.0/491.3 kB 18.2 kB/s eta 0:00:25\n",
      "   --- ------------------------------------ 41.0/491.3 kB 18.2 kB/s eta 0:00:25\n",
      "   --- ------------------------------------ 41.0/491.3 kB 18.2 kB/s eta 0:00:25\n",
      "   --- ------------------------------------ 41.0/491.3 kB 18.2 kB/s eta 0:00:25\n",
      "   --- ------------------------------------ 41.0/491.3 kB 18.2 kB/s eta 0:00:25\n",
      "   --- ------------------------------------ 41.0/491.3 kB 18.2 kB/s eta 0:00:25\n",
      "   --- ------------------------------------ 41.0/491.3 kB 18.2 kB/s eta 0:00:25\n",
      "   --- ------------------------------------ 41.0/491.3 kB 18.2 kB/s eta 0:00:25\n",
      "   --- ------------------------------------ 41.0/491.3 kB 18.2 kB/s eta 0:00:25\n",
      "   --- ------------------------------------ 41.0/491.3 kB 18.2 kB/s eta 0:00:25\n",
      "   --- ------------------------------------ 41.0/491.3 kB 18.2 kB/s eta 0:00:25\n",
      "   --- ------------------------------------ 41.0/491.3 kB 18.2 kB/s eta 0:00:25\n",
      "   --- ------------------------------------ 41.0/491.3 kB 18.2 kB/s eta 0:00:25\n",
      "   --- ------------------------------------ 41.0/491.3 kB 18.2 kB/s eta 0:00:25\n",
      "   --- ------------------------------------ 41.0/491.3 kB 18.2 kB/s eta 0:00:25\n",
      "   --- ------------------------------------ 41.0/491.3 kB 18.2 kB/s eta 0:00:25\n",
      "   --- ------------------------------------ 41.0/491.3 kB 18.2 kB/s eta 0:00:25\n",
      "   --- ------------------------------------ 41.0/491.3 kB 18.2 kB/s eta 0:00:25\n",
      "   --- ------------------------------------ 41.0/491.3 kB 18.2 kB/s eta 0:00:25\n",
      "   --- ------------------------------------ 41.0/491.3 kB 18.2 kB/s eta 0:00:25\n",
      "   --- ------------------------------------ 41.0/491.3 kB 18.2 kB/s eta 0:00:25\n",
      "   --- ------------------------------------ 41.0/491.3 kB 18.2 kB/s eta 0:00:25\n",
      "   --- ------------------------------------ 41.0/491.3 kB 18.2 kB/s eta 0:00:25\n",
      "   --- ------------------------------------ 41.0/491.3 kB 18.2 kB/s eta 0:00:25\n",
      "   --- ------------------------------------ 41.0/491.3 kB 18.2 kB/s eta 0:00:25\n",
      "   --- ------------------------------------ 41.0/491.3 kB 18.2 kB/s eta 0:00:25\n",
      "   --- ------------------------------------ 41.0/491.3 kB 18.2 kB/s eta 0:00:25\n",
      "   --- ------------------------------------ 41.0/491.3 kB 18.2 kB/s eta 0:00:25\n",
      "   --- ------------------------------------ 41.0/491.3 kB 18.2 kB/s eta 0:00:25\n",
      "   --- ------------------------------------ 41.0/491.3 kB 18.2 kB/s eta 0:00:25\n",
      "   --- ------------------------------------ 41.0/491.3 kB 18.2 kB/s eta 0:00:25\n",
      "   --- ------------------------------------ 41.0/491.3 kB 18.2 kB/s eta 0:00:25\n",
      "   --- ------------------------------------ 41.0/491.3 kB 18.2 kB/s eta 0:00:25\n",
      "   --- ------------------------------------ 41.0/491.3 kB 18.2 kB/s eta 0:00:25\n",
      "   --- ------------------------------------ 41.0/491.3 kB 18.2 kB/s eta 0:00:25\n",
      "   --- ------------------------------------ 41.0/491.3 kB 18.2 kB/s eta 0:00:25\n",
      "   --- ------------------------------------ 41.0/491.3 kB 18.2 kB/s eta 0:00:25\n",
      "   --- ------------------------------------ 41.0/491.3 kB 18.2 kB/s eta 0:00:25\n",
      "   --- ------------------------------------ 41.0/491.3 kB 18.2 kB/s eta 0:00:25\n",
      "   --- ------------------------------------ 41.0/491.3 kB 18.2 kB/s eta 0:00:25\n",
      "   --- ------------------------------------ 41.0/491.3 kB 18.2 kB/s eta 0:00:25\n",
      "   --- ------------------------------------ 41.0/491.3 kB 18.2 kB/s eta 0:00:25\n",
      "   --- ------------------------------------ 41.0/491.3 kB 18.2 kB/s eta 0:00:25\n",
      "   --- ------------------------------------ 41.0/491.3 kB 18.2 kB/s eta 0:00:25\n",
      "   --- ------------------------------------ 41.0/491.3 kB 18.2 kB/s eta 0:00:25\n",
      "   --- ------------------------------------ 41.0/491.3 kB 18.2 kB/s eta 0:00:25\n",
      "   --- ------------------------------------ 41.0/491.3 kB 18.2 kB/s eta 0:00:25\n",
      "   --- ------------------------------------ 41.0/491.3 kB 18.2 kB/s eta 0:00:25\n",
      "   --- ------------------------------------ 41.0/491.3 kB 18.2 kB/s eta 0:00:25\n",
      "   --- ------------------------------------ 41.0/491.3 kB 18.2 kB/s eta 0:00:25\n",
      "   --- ------------------------------------ 41.0/491.3 kB 18.2 kB/s eta 0:00:25\n",
      "   --- ------------------------------------ 41.0/491.3 kB 18.2 kB/s eta 0:00:25\n",
      "   --- ------------------------------------ 41.0/491.3 kB 18.2 kB/s eta 0:00:25\n",
      "   --- ------------------------------------ 41.0/491.3 kB 18.2 kB/s eta 0:00:25\n",
      "   --- ------------------------------------ 41.0/491.3 kB 18.2 kB/s eta 0:00:25\n",
      "   --- ------------------------------------ 41.0/491.3 kB 18.2 kB/s eta 0:00:25\n",
      "   --- ------------------------------------ 41.0/491.3 kB 18.2 kB/s eta 0:00:25\n",
      "   --- ------------------------------------ 41.0/491.3 kB 18.2 kB/s eta 0:00:25\n",
      "   --- ------------------------------------ 41.0/491.3 kB 18.2 kB/s eta 0:00:25\n",
      "   --- ------------------------------------ 41.0/491.3 kB 18.2 kB/s eta 0:00:25\n",
      "   --- ------------------------------------ 41.0/491.3 kB 18.2 kB/s eta 0:00:25\n",
      "   --- ------------------------------------ 41.0/491.3 kB 18.2 kB/s eta 0:00:25\n",
      "   --- ------------------------------------ 41.0/491.3 kB 18.2 kB/s eta 0:00:25\n",
      "   ----- ---------------------------------- 61.4/491.3 kB 9.7 kB/s eta 0:00:45\n",
      "   ----- ---------------------------------- 61.4/491.3 kB 9.7 kB/s eta 0:00:45\n",
      "   ----- ---------------------------------- 71.7/491.3 kB 11.5 kB/s eta 0:00:37\n",
      "   -------- ------------------------------ 112.6/491.3 kB 18.8 kB/s eta 0:00:21\n",
      "   --------- ----------------------------- 122.9/491.3 kB 20.5 kB/s eta 0:00:18\n",
      "   ----------- --------------------------- 143.4/491.3 kB 24.1 kB/s eta 0:00:15\n",
      "   ----------- --------------------------- 143.4/491.3 kB 24.1 kB/s eta 0:00:15\n",
      "   ------------ -------------------------- 153.6/491.3 kB 25.5 kB/s eta 0:00:14\n",
      "   ------------- ------------------------- 174.1/491.3 kB 28.9 kB/s eta 0:00:11\n",
      "   ------------- ------------------------- 174.1/491.3 kB 28.9 kB/s eta 0:00:11\n",
      "   --------------- ----------------------- 194.6/491.3 kB 32.1 kB/s eta 0:00:10\n",
      "   ---------------- ---------------------- 204.8/491.3 kB 33.6 kB/s eta 0:00:09\n",
      "   ----------------- --------------------- 225.3/491.3 kB 36.7 kB/s eta 0:00:08\n",
      "   ------------------ -------------------- 235.5/491.3 kB 38.0 kB/s eta 0:00:07\n",
      "   ------------------ -------------------- 235.5/491.3 kB 38.0 kB/s eta 0:00:07\n",
      "   ------------------ -------------------- 235.5/491.3 kB 38.0 kB/s eta 0:00:07\n",
      "   ------------------ -------------------- 235.5/491.3 kB 38.0 kB/s eta 0:00:07\n",
      "   ------------------ -------------------- 235.5/491.3 kB 38.0 kB/s eta 0:00:07\n",
      "   ------------------ -------------------- 235.5/491.3 kB 38.0 kB/s eta 0:00:07\n",
      "   ------------------ -------------------- 235.5/491.3 kB 38.0 kB/s eta 0:00:07\n",
      "   ------------------ -------------------- 235.5/491.3 kB 38.0 kB/s eta 0:00:07\n",
      "   ------------------ -------------------- 235.5/491.3 kB 38.0 kB/s eta 0:00:07\n",
      "   ------------------ -------------------- 235.5/491.3 kB 38.0 kB/s eta 0:00:07\n",
      "   -------------------- ------------------ 256.0/491.3 kB 38.5 kB/s eta 0:00:07\n",
      "   -------------------- ------------------ 256.0/491.3 kB 38.5 kB/s eta 0:00:07\n",
      "   -------------------- ------------------ 256.0/491.3 kB 38.5 kB/s eta 0:00:07\n",
      "   -------------------- ------------------ 256.0/491.3 kB 38.5 kB/s eta 0:00:07\n",
      "   -------------------- ------------------ 256.0/491.3 kB 38.5 kB/s eta 0:00:07\n",
      "   --------------------- ----------------- 276.5/491.3 kB 40.4 kB/s eta 0:00:06\n",
      "   --------------------- ----------------- 276.5/491.3 kB 40.4 kB/s eta 0:00:06\n",
      "   --------------------- ----------------- 276.5/491.3 kB 40.4 kB/s eta 0:00:06\n",
      "   --------------------- ----------------- 276.5/491.3 kB 40.4 kB/s eta 0:00:06\n",
      "   ---------------------- ---------------- 286.7/491.3 kB 40.5 kB/s eta 0:00:06\n",
      "   ---------------------- ---------------- 286.7/491.3 kB 40.5 kB/s eta 0:00:06\n",
      "   ---------------------- ---------------- 286.7/491.3 kB 40.5 kB/s eta 0:00:06\n",
      "   ---------------------- ---------------- 286.7/491.3 kB 40.5 kB/s eta 0:00:06\n",
      "   ------------------------ -------------- 307.2/491.3 kB 42.5 kB/s eta 0:00:05\n",
      "   ------------------------ -------------- 307.2/491.3 kB 42.5 kB/s eta 0:00:05\n",
      "   ------------------------ -------------- 307.2/491.3 kB 42.5 kB/s eta 0:00:05\n",
      "   ------------------------ -------------- 307.2/491.3 kB 42.5 kB/s eta 0:00:05\n",
      "   ------------------------ -------------- 307.2/491.3 kB 42.5 kB/s eta 0:00:05\n",
      "   ------------------------ -------------- 307.2/491.3 kB 42.5 kB/s eta 0:00:05\n",
      "   ------------------------- ------------- 317.4/491.3 kB 42.2 kB/s eta 0:00:05\n",
      "   -------------------------- ------------ 337.9/491.3 kB 44.7 kB/s eta 0:00:04\n",
      "   ---------------------------- ---------- 358.4/491.3 kB 47.2 kB/s eta 0:00:03\n",
      "   ---------------------------- ---------- 358.4/491.3 kB 47.2 kB/s eta 0:00:03\n",
      "   ---------------------------- ---------- 358.4/491.3 kB 47.2 kB/s eta 0:00:03\n",
      "   ---------------------------- ---------- 358.4/491.3 kB 47.2 kB/s eta 0:00:03\n",
      "   ----------------------------- --------- 368.6/491.3 kB 47.3 kB/s eta 0:00:03\n",
      "   ----------------------------- --------- 368.6/491.3 kB 47.3 kB/s eta 0:00:03\n",
      "   ----------------------------- --------- 368.6/491.3 kB 47.3 kB/s eta 0:00:03\n",
      "   ----------------------------- --------- 368.6/491.3 kB 47.3 kB/s eta 0:00:03\n",
      "   ------------------------------ -------- 389.1/491.3 kB 48.9 kB/s eta 0:00:03\n",
      "   ------------------------------- ------- 399.4/491.3 kB 49.8 kB/s eta 0:00:02\n",
      "   --------------------------------- ----- 419.8/491.3 kB 52.1 kB/s eta 0:00:02\n",
      "   --------------------------------- ----- 419.8/491.3 kB 52.1 kB/s eta 0:00:02\n",
      "   ---------------------------------- ---- 440.3/491.3 kB 54.1 kB/s eta 0:00:01\n",
      "   ---------------------------------- ---- 440.3/491.3 kB 54.1 kB/s eta 0:00:01\n",
      "   ----------------------------------- --- 450.6/491.3 kB 54.8 kB/s eta 0:00:01\n",
      "   ------------------------------------- - 471.0/491.3 kB 56.9 kB/s eta 0:00:01\n",
      "   --------------------------------------  481.3/491.3 kB 58.0 kB/s eta 0:00:01\n",
      "   --------------------------------------  481.3/491.3 kB 58.0 kB/s eta 0:00:01\n",
      "   --------------------------------------  481.3/491.3 kB 58.0 kB/s eta 0:00:01\n",
      "   --------------------------------------- 491.3/491.3 kB 58.1 kB/s eta 0:00:00\n",
      "Using cached tqdm-4.67.1-py3-none-any.whl (78 kB)\n",
      "Installing collected packages: tqdm, future, pyswarms\n",
      "Successfully installed future-1.0.0 pyswarms-1.3.0 tqdm-4.67.1\n",
      "Note: you may need to restart the kernel to use updated packages.\n"
     ]
    },
    {
     "name": "stderr",
     "output_type": "stream",
     "text": [
      "\n",
      "[notice] A new release of pip is available: 24.0 -> 25.1.1\n",
      "[notice] To update, run: python.exe -m pip install --upgrade pip\n"
     ]
    }
   ],
   "source": [
    "pip install pyswarms"
   ]
  },
  {
   "cell_type": "code",
   "execution_count": 14,
   "metadata": {
    "id": "A2UBrlS9MkGp"
   },
   "outputs": [],
   "source": [
    "import pyswarms as ps"
   ]
  },
  {
   "cell_type": "code",
   "execution_count": 15,
   "metadata": {
    "colab": {
     "base_uri": "https://localhost:8080/"
    },
    "id": "BLdIaDdKabNf",
    "outputId": "52cb9fe5-eafd-4bac-a596-9327f87e4a73"
   },
   "outputs": [
    {
     "name": "stderr",
     "output_type": "stream",
     "text": [
      "2025-06-28 20:07:32,065 - pyswarms.single.global_best - INFO - Optimize for 20 iters with {'c1': 0.5, 'c2': 0.3, 'w': 0.9}\n",
      "pyswarms.single.global_best:   0%|                                                                                |0/20"
     ]
    },
    {
     "name": "stdout",
     "output_type": "stream",
     "text": [
      "Shape of selected_features: (3, 49)\n"
     ]
    },
    {
     "name": "stderr",
     "output_type": "stream",
     "text": [
      "pyswarms.single.global_best:  10%|██████▎                                                        |2/20, best_cost=0.702"
     ]
    },
    {
     "name": "stdout",
     "output_type": "stream",
     "text": [
      "Shape of selected_features: (3, 49)\n",
      "Shape of selected_features: (3, 49)\n",
      "Shape of selected_features: (3, 49)\n"
     ]
    },
    {
     "name": "stderr",
     "output_type": "stream",
     "text": [
      "pyswarms.single.global_best:  30%|██████████████████▉                                            |6/20, best_cost=0.702"
     ]
    },
    {
     "name": "stdout",
     "output_type": "stream",
     "text": [
      "Shape of selected_features: (3, 49)\n",
      "Shape of selected_features: (3, 49)\n",
      "Shape of selected_features: (3, 49)\n"
     ]
    },
    {
     "name": "stderr",
     "output_type": "stream",
     "text": [
      "pyswarms.single.global_best:  40%|█████████████████████████▏                                     |8/20, best_cost=0.702"
     ]
    },
    {
     "name": "stdout",
     "output_type": "stream",
     "text": [
      "Shape of selected_features: (3, 49)\n",
      "Shape of selected_features: (3, 49)\n",
      "Shape of selected_features: (3, 49)\n"
     ]
    },
    {
     "name": "stderr",
     "output_type": "stream",
     "text": [
      "pyswarms.single.global_best:  60%|█████████████████████████████████████▏                        |12/20, best_cost=0.702"
     ]
    },
    {
     "name": "stdout",
     "output_type": "stream",
     "text": [
      "Shape of selected_features: (3, 49)\n",
      "Shape of selected_features: (3, 49)\n",
      "Shape of selected_features: (3, 49)\n"
     ]
    },
    {
     "name": "stderr",
     "output_type": "stream",
     "text": [
      "pyswarms.single.global_best:  70%|███████████████████████████████████████████▍                  |14/20, best_cost=0.702"
     ]
    },
    {
     "name": "stdout",
     "output_type": "stream",
     "text": [
      "Shape of selected_features: (3, 49)\n",
      "Shape of selected_features: (3, 49)\n"
     ]
    },
    {
     "name": "stderr",
     "output_type": "stream",
     "text": [
      "pyswarms.single.global_best:  80%|█████████████████████████████████████████████████▌            |16/20, best_cost=0.702"
     ]
    },
    {
     "name": "stdout",
     "output_type": "stream",
     "text": [
      "Shape of selected_features: (3, 49)\n",
      "Shape of selected_features: (3, 49)\n"
     ]
    },
    {
     "name": "stderr",
     "output_type": "stream",
     "text": [
      "pyswarms.single.global_best:  90%|███████████████████████████████████████████████████████▊      |18/20, best_cost=0.702"
     ]
    },
    {
     "name": "stdout",
     "output_type": "stream",
     "text": [
      "Shape of selected_features: (3, 49)\n",
      "Shape of selected_features: (3, 49)\n"
     ]
    },
    {
     "name": "stderr",
     "output_type": "stream",
     "text": [
      "pyswarms.single.global_best: 100%|██████████████████████████████████████████████████████████████|20/20, best_cost=0.702\n",
      "2025-06-28 20:07:34,192 - pyswarms.single.global_best - INFO - Optimization finished | best cost: 0.7018963974043411, best pos: [0.22735277 0.72539238 0.91996253 0.93097259 0.02484303 0.58551085\n",
      " 0.42197099 0.80018924 0.40840647 0.48035784 0.64224815 0.13035974\n",
      " 0.87858226 0.70446576 0.70471237 0.78537827 0.54472416 0.18848805\n",
      " 0.58549047 0.26640965 0.2299429  0.03935604 0.4426522  0.32754356\n",
      " 0.32856546 0.54131831 0.51860545 0.91919447 0.76968923 0.27428348\n",
      " 0.97718537 0.58104463 0.24945849 0.1641262  0.5727819  0.9183194\n",
      " 0.86135168 0.1573802  0.25432233 0.41009541 0.8640664  0.07419299\n",
      " 0.58477379 0.31450198 0.76632098 0.01712084 0.16174223 0.50733582\n",
      " 0.60700318]\n"
     ]
    },
    {
     "name": "stdout",
     "output_type": "stream",
     "text": [
      "Shape of selected_features: (3, 49)\n"
     ]
    }
   ],
   "source": [
    "X = X\n",
    "y = df['cluster'].values\n",
    "from sklearn.svm import LinearSVC\n",
    "# Split the data into train and test sets\n",
    "X_train, X_test, y_train, y_test = train_test_split(X, y, test_size=0.2, random_state=42)\n",
    "def calculate_fitness(position, X, y):\n",
    "    selected_features = position >= 0.5\n",
    "    print('Shape of selected_features:', selected_features.shape)\n",
    "    X_selected = X[:, selected_features.shape[0]]\n",
    "    clf = LinearSVC()\n",
    "    score = np.mean(cross_val_score(clf, X_selected.reshape(-1,1), y, cv=5))\n",
    "    return score\n",
    "\n",
    "def pso_feature_selection(X, y, num_particles, num_iterations):\n",
    "    num_features = X.shape[1]\n",
    "    options = {'c1': 0.5, 'c2': 0.3, 'w': 0.9}\n",
    "    dimensions = num_features\n",
    "\n",
    "    optimizer = ps.single.GlobalBestPSO(n_particles=num_particles, dimensions=dimensions, options=options)\n",
    "\n",
    "    cost, pos = optimizer.optimize(calculate_fitness, iters=num_iterations, X=X, y=y)\n",
    "\n",
    "    selected_features = pos >= 0.5\n",
    "    X_selected = X[:, selected_features]\n",
    "\n",
    "    return X_selected\n",
    "\n",
    "num_particles = encoded_features.shape[1]  # Update num_particles to match the number of features\n",
    "X_selected = pso_feature_selection(X, y, num_particles=num_particles, num_iterations=20)"
   ]
  },
  {
   "cell_type": "code",
   "execution_count": null,
   "metadata": {
    "id": "YKnRcGM4t6_f"
   },
   "outputs": [],
   "source": []
  },
  {
   "cell_type": "code",
   "execution_count": 16,
   "metadata": {
    "id": "JVpN2l84F9-n"
   },
   "outputs": [],
   "source": [
    "X_train, X_test, y_train, y_test = train_test_split(X_selected, y, test_size=0.2, random_state=42)\n",
    "# Reshape the data for compatibility with CNN input\n",
    "X_train = X_train.reshape(X_train.shape[0], X_train.shape[1], 1)\n",
    "X_test = X_test.reshape(X_test.shape[0], X_test.shape[1], 1)"
   ]
  },
  {
   "cell_type": "code",
   "execution_count": 17,
   "metadata": {
    "colab": {
     "base_uri": "https://localhost:8080/"
    },
    "id": "XiO4SfjJnHnL",
    "outputId": "bf5f1cb4-2686-48af-ef6b-e6016046767d"
   },
   "outputs": [
    {
     "data": {
      "text/plain": [
       "(1637,)"
      ]
     },
     "execution_count": 17,
     "metadata": {},
     "output_type": "execute_result"
    }
   ],
   "source": [
    "y.shape"
   ]
  },
  {
   "cell_type": "code",
   "execution_count": 18,
   "metadata": {
    "colab": {
     "base_uri": "https://localhost:8080/"
    },
    "id": "mpT4d9YLGI-t",
    "outputId": "c272e3d1-99bf-484f-e36c-f47a3507640d"
   },
   "outputs": [
    {
     "name": "stdout",
     "output_type": "stream",
     "text": [
      "Epoch 1/10\n",
      "\u001b[1m21/21\u001b[0m \u001b[32m━━━━━━━━━━━━━━━━━━━━\u001b[0m\u001b[37m\u001b[0m \u001b[1m9s\u001b[0m 93ms/step - accuracy: 0.5037 - loss: 40.4467 - val_accuracy: 0.7317 - val_loss: 5.9982\n",
      "Epoch 2/10\n",
      "\u001b[1m21/21\u001b[0m \u001b[32m━━━━━━━━━━━━━━━━━━━━\u001b[0m\u001b[37m\u001b[0m \u001b[1m3s\u001b[0m 31ms/step - accuracy: 0.7336 - loss: 17.3396 - val_accuracy: 0.7378 - val_loss: 4.7069\n",
      "Epoch 3/10\n",
      "\u001b[1m21/21\u001b[0m \u001b[32m━━━━━━━━━━━━━━━━━━━━\u001b[0m\u001b[37m\u001b[0m \u001b[1m1s\u001b[0m 38ms/step - accuracy: 0.7124 - loss: 6.9199 - val_accuracy: 0.7226 - val_loss: 2.0980\n",
      "Epoch 4/10\n",
      "\u001b[1m21/21\u001b[0m \u001b[32m━━━━━━━━━━━━━━━━━━━━\u001b[0m\u001b[37m\u001b[0m \u001b[1m1s\u001b[0m 35ms/step - accuracy: 0.7909 - loss: 2.5483 - val_accuracy: 0.7530 - val_loss: 2.4365\n",
      "Epoch 5/10\n",
      "\u001b[1m21/21\u001b[0m \u001b[32m━━━━━━━━━━━━━━━━━━━━\u001b[0m\u001b[37m\u001b[0m \u001b[1m1s\u001b[0m 35ms/step - accuracy: 0.8121 - loss: 2.6709 - val_accuracy: 0.7957 - val_loss: 2.8257\n",
      "Epoch 6/10\n",
      "\u001b[1m21/21\u001b[0m \u001b[32m━━━━━━━━━━━━━━━━━━━━\u001b[0m\u001b[37m\u001b[0m \u001b[1m1s\u001b[0m 33ms/step - accuracy: 0.7719 - loss: 3.1225 - val_accuracy: 0.7591 - val_loss: 1.8965\n",
      "Epoch 7/10\n",
      "\u001b[1m21/21\u001b[0m \u001b[32m━━━━━━━━━━━━━━━━━━━━\u001b[0m\u001b[37m\u001b[0m \u001b[1m1s\u001b[0m 42ms/step - accuracy: 0.8230 - loss: 1.4791 - val_accuracy: 0.7195 - val_loss: 1.3566\n",
      "Epoch 8/10\n",
      "\u001b[1m21/21\u001b[0m \u001b[32m━━━━━━━━━━━━━━━━━━━━\u001b[0m\u001b[37m\u001b[0m \u001b[1m1s\u001b[0m 36ms/step - accuracy: 0.8447 - loss: 0.8309 - val_accuracy: 0.8262 - val_loss: 0.9351\n",
      "Epoch 9/10\n",
      "\u001b[1m21/21\u001b[0m \u001b[32m━━━━━━━━━━━━━━━━━━━━\u001b[0m\u001b[37m\u001b[0m \u001b[1m1s\u001b[0m 43ms/step - accuracy: 0.8627 - loss: 0.6988 - val_accuracy: 0.8232 - val_loss: 0.9015\n",
      "Epoch 10/10\n",
      "\u001b[1m21/21\u001b[0m \u001b[32m━━━━━━━━━━━━━━━━━━━━\u001b[0m\u001b[37m\u001b[0m \u001b[1m1s\u001b[0m 38ms/step - accuracy: 0.8588 - loss: 0.8246 - val_accuracy: 0.8354 - val_loss: 0.7898\n"
     ]
    },
    {
     "data": {
      "text/plain": [
       "<keras.src.callbacks.history.History at 0x1f49efb7560>"
      ]
     },
     "execution_count": 18,
     "metadata": {},
     "output_type": "execute_result"
    }
   ],
   "source": [
    "from keras.models import Sequential\n",
    "from keras.layers import Conv1D, MaxPooling1D, Flatten, Dense\n",
    "from keras.utils import to_categorical\n",
    "\n",
    "# Train the CNN model\n",
    "# ...\n",
    "\n",
    "# Encode target labels as one-hot vectors\n",
    "num_classes = 3\n",
    "y_train_encoded = to_categorical(y_train, num_classes)\n",
    "y_test_encoded = to_categorical(y_test, num_classes)\n",
    "\n",
    "# Build the CNN model\n",
    "model = Sequential()\n",
    "model.add(Conv1D(32, kernel_size=3, activation='relu', input_shape=(X_train.shape[1], 1)))\n",
    "model.add(MaxPooling1D(pool_size=2))\n",
    "model.add(Conv1D(64, kernel_size=3, activation='relu'))\n",
    "model.add(MaxPooling1D(pool_size=2))\n",
    "model.add(Flatten())\n",
    "model.add(Dense(128, activation='relu'))\n",
    "model.add(Dense(num_classes, activation='softmax'))\n",
    "\n",
    "# Compile the model\n",
    "model.compile(optimizer='adam', loss='categorical_crossentropy', metrics=['accuracy'])\n",
    "\n",
    "# Train the model\n",
    "model.fit(X_train, y_train_encoded, epochs=10, batch_size=64, validation_data=(X_test, y_test_encoded))"
   ]
  },
  {
   "cell_type": "code",
   "execution_count": 19,
   "metadata": {
    "colab": {
     "base_uri": "https://localhost:8080/"
    },
    "id": "SsWvaWDMGiMh",
    "outputId": "3ef6ab15-59bb-4c47-c53c-f4ccd2987165"
   },
   "outputs": [
    {
     "name": "stdout",
     "output_type": "stream",
     "text": [
      "\u001b[1m11/11\u001b[0m \u001b[32m━━━━━━━━━━━━━━━━━━━━\u001b[0m\u001b[37m\u001b[0m \u001b[1m0s\u001b[0m 22ms/step - accuracy: 0.8489 - loss: 0.9182\n",
      "Test Accuracy: 0.8354\n"
     ]
    }
   ],
   "source": [
    "from sklearn.metrics import precision_score, recall_score, f1_score\n",
    "# Evaluate the model on the test data\n",
    "from keras.utils import to_categorical\n",
    "\n",
    "# Encode target labels as one-hot vectors\n",
    "num_classes = 3\n",
    "y_test_encoded = to_categorical(y_test, num_classes)\n",
    "\n",
    "# Evaluate the model\n",
    "loss, accuracy = model.evaluate(X_test, y_test_encoded)\n",
    "print(f\"Test Accuracy: {accuracy:.4f}\")"
   ]
  },
  {
   "cell_type": "code",
   "execution_count": 20,
   "metadata": {
    "colab": {
     "base_uri": "https://localhost:8080/"
    },
    "id": "JbMxlKBRuiMX",
    "outputId": "f86fc1c0-5eee-42da-f617-40dca87be21a"
   },
   "outputs": [
    {
     "name": "stdout",
     "output_type": "stream",
     "text": [
      "\u001b[1m11/11\u001b[0m \u001b[32m━━━━━━━━━━━━━━━━━━━━\u001b[0m\u001b[37m\u001b[0m \u001b[1m1s\u001b[0m 33ms/step\n"
     ]
    }
   ],
   "source": [
    "y_pred = model.predict(X_test)"
   ]
  },
  {
   "cell_type": "code",
   "execution_count": 21,
   "metadata": {
    "id": "mrTyRkrRuokt"
   },
   "outputs": [],
   "source": [
    "kmeans = KMeans(n_clusters=3, random_state=42)\n",
    "kmeans.fit(X_selected)\n",
    "best_clusters = kmeans.predict(X_selected)\n",
    "df['cluster1'] = best_clusters\n",
    "high_caloric1 = df[best_clusters == 0]\n",
    "mid_caloric1 = df[best_clusters == 1]\n",
    "low_caloric1 = df[best_clusters == 2]"
   ]
  },
  {
   "cell_type": "code",
   "execution_count": 22,
   "metadata": {
    "colab": {
     "base_uri": "https://localhost:8080/",
     "height": 564
    },
    "id": "XSNjoHoFPG_z",
    "outputId": "0d14b734-e257-4be1-950e-f231d335c2df"
   },
   "outputs": [
    {
     "data": {
      "image/png": "[encoded data removed]",
      "text/plain": [
       "<Figure size 1000x600 with 1 Axes>"
      ]
     },
     "metadata": {},
     "output_type": "display_data"
    }
   ],
   "source": [
    "import matplotlib.pyplot as plt\n",
    "\n",
    "# Select the columns of interest\n",
    "columns_to_visualize = ['Energ_Kcal', 'cluster']\n",
    "\n",
    "# Get the subset of the DataFrame for the selected columns\n",
    "subset = df[columns_to_visualize]\n",
    "\n",
    "# Set the figure size\n",
    "plt.figure(figsize=(10, 6))\n",
    "\n",
    "# Create the line plot\n",
    "for caloric_level in subset['cluster'].unique():\n",
    "    level_data = subset[subset['cluster'] == caloric_level]\n",
    "    plt.plot(level_data.index, level_data['Energ_Kcal'], label=caloric_level)\n",
    "\n",
    "plt.xlabel('Index')\n",
    "plt.ylabel('Energ_Kcal')\n",
    "plt.title('Change in Energ_Kcal at Various Caloric Levels')\n",
    "plt.legend()\n",
    "\n",
    "# Show the plot\n",
    "plt.show()"
   ]
  },
  {
   "cell_type": "markdown",
   "metadata": {
    "id": "8wiz48agnnhM"
   },
   "source": [
    "### Recommendation system"
   ]
  },
  {
   "cell_type": "code",
   "execution_count": null,
   "metadata": {
    "id": "4IxyyMHwRIum"
   },
   "outputs": [],
   "source": []
  },
  {
   "cell_type": "code",
   "execution_count": 23,
   "metadata": {
    "id": "v_Jlh8LOleFb"
   },
   "outputs": [],
   "source": [
    "def recommend_diets(caloric_level,caloric_value , n=10):\n",
    "    # Filter the dataset based on the caloric level\n",
    "    filtered_data = df[df['cluster'] == caloric_level]\n",
    "\n",
    "    # Sort the diets based on some criteria (e.g., nutrients)\n",
    "    sorted_diets = filtered_data.sort_values(by=['Energ_Kcal'], ascending=False)\n",
    "\n",
    "    # Return the top n recommended diets\n",
    "    dff = sorted_diets\n",
    "    recommended_diets = dff[(dff['Energ_Kcal'] >= caloric_value) & (df['Energ_Kcal'] <= caloric_value + 10)]\n",
    "\n",
    "    return recommended_diets.head(n)\n",
    "\n",
    "# Example usage:\n",
    "top_10_diets_low_calorie = recommend_diets('low', 120,  n=10)\n",
    "top_10_diets_mid_calorie = recommend_diets('mid', 300, n=10)\n",
    "top_10_diets_high_calorie = recommend_diets('high', 800, n=10)"
   ]
  },
  {
   "cell_type": "markdown",
   "metadata": {
    "id": "OOSBoZvbpXGK"
   },
   "source": [
    "### Code for pregnancy woman input"
   ]
  },
  {
   "cell_type": "code",
   "execution_count": 35,
   "metadata": {
    "colab": {
     "base_uri": "https://localhost:8080/",
     "height": 380
    },
    "id": "99fjS3wm4PGL",
    "outputId": "54e21530-1e5d-4d5e-fa0b-ffebb2ba5a51"
   },
   "outputs": [
    {
     "name": "stdin",
     "output_type": "stream",
     "text": [
      "Enter your age in years:  40\n",
      "Enter your height in meters:  1.27\n",
      "Enter your weight in kilograms:  55\n",
      "Enter your pregnancy stage (FirstTrimester, SecondTrimester, ThirdTrimester):  SecondTrimester\n",
      "Enter your activity level (Sedentary, Light Active, Moderately Active, Very Active):  Light Active\n"
     ]
    },
    {
     "name": "stdout",
     "output_type": "stream",
     "text": [
      "Your recommended caloric intake is: 270.7890625 calories per day.\n",
      "Caloric Intake Classification: low\n",
      "Empty DataFrame\n",
      "Columns: [Shrt_Desc, Energ_Kcal]\n",
      "Index: []\n"
     ]
    }
   ],
   "source": [
    "def nutrients(age, height, weight, preg_stage, active):\n",
    "    if active == 'Sedentary':\n",
    "        active = 1.2\n",
    "    elif active == \"Light Active\":\n",
    "        active = 1.375\n",
    "    elif active == \"Moderately Active\":\n",
    "        active = 1.55\n",
    "    elif active == \"Very Active\":\n",
    "        active = 1.75\n",
    "\n",
    "    bmi = weight / (height * height)\n",
    "    if bmi < 18.5:\n",
    "        person = 'Underweight'\n",
    "        if preg_stage == \"FirstTrimester\":\n",
    "            goal = 2\n",
    "        elif preg_stage == \"SecondTrimester\":\n",
    "            goal = 10\n",
    "        elif preg_stage == \"ThirdTrimester\":\n",
    "            goal = 18\n",
    "    elif bmi >= 18.5 and bmi <= 25:\n",
    "        person = 'Health in Weight'\n",
    "        if preg_stage == \"FirstTrimester\":\n",
    "            goal = 2\n",
    "        elif preg_stage == \"SecondTrimester\":\n",
    "            goal = 10\n",
    "        elif preg_stage == \"ThirdTrimester\":\n",
    "            goal = 16\n",
    "    elif bmi > 25:\n",
    "        person = 'Overweight'\n",
    "        if preg_stage == \"FirstTrimester\":\n",
    "            goal = 2\n",
    "        elif preg_stage == \"SecondTrimester\":\n",
    "            goal = 7\n",
    "        elif preg_stage == \"ThirdTrimester\":\n",
    "            goal = 11\n",
    "\n",
    "    # Mifflin-St Jeor BMR equation to get the BMR formula\n",
    "    bmr = 10 * weight + 6.25 * height - 5 * age - 161\n",
    "\n",
    "    # Needed calories = BMR multiplied by the activity level\n",
    "    caloric_intake = bmr * float(active)\n",
    "\n",
    "    return caloric_intake\n",
    "\n",
    "def classify_caloric_intake(caloric_intake):\n",
    "    if caloric_intake < 300:\n",
    "        classification = \"low\"\n",
    "    elif caloric_intake >= 300 and caloric_intake <= 350:\n",
    "        classification = \"mid\"\n",
    "    else:\n",
    "        classification = \"high\"\n",
    "\n",
    "    return classification\n",
    "\n",
    "# Collect user input\n",
    "age = int(input(\"Enter your age in years: \"))\n",
    "height = float(input(\"Enter your height in meters: \"))\n",
    "weight = float(input(\"Enter your weight in kilograms: \"))\n",
    "preg_stage = input(\"Enter your pregnancy stage (FirstTrimester, SecondTrimester, ThirdTrimester): \")\n",
    "active = input(\"Enter your activity level (Sedentary, Light Active, Moderately Active, Very Active): \")\n",
    "\n",
    "# Calculate caloric intake\n",
    "caloric_intake = nutrients(age, height, weight, preg_stage, active)\n",
    "\n",
    "# Classify caloric intake\n",
    "caloric_classification = classify_caloric_intake(caloric_intake)\n",
    "\n",
    "# Display the result\n",
    "print(\"Your recommended caloric intake is:\", caloric_intake, \"calories per day.\")\n",
    "print(\"Caloric Intake Classification:\", caloric_classification)\n",
    "result = recommend_diets(caloric_classification, caloric_intake, n=5)\n",
    "print(result[['Shrt_Desc', 'Energ_Kcal']].to_string(index=False))"
   ]
  },
  {
   "cell_type": "code",
   "execution_count": 36,
   "metadata": {},
   "outputs": [
    {
     "name": "stdout",
     "output_type": "stream",
     "text": [
      "270.79 calories recommended per day\n"
     ]
    },
    {
     "data": {
      "text/html": [
       "<div>\n",
       "<style scoped>\n",
       "    .dataframe tbody tr th:only-of-type {\n",
       "        vertical-align: middle;\n",
       "    }\n",
       "\n",
       "    .dataframe tbody tr th {\n",
       "        vertical-align: top;\n",
       "    }\n",
       "\n",
       "    .dataframe thead th {\n",
       "        text-align: right;\n",
       "    }\n",
       "</style>\n",
       "<table border=\"1\" class=\"dataframe\">\n",
       "  <thead>\n",
       "    <tr style=\"text-align: right;\">\n",
       "      <th></th>\n",
       "      <th>Shrt_Desc</th>\n",
       "      <th>Energ_Kcal</th>\n",
       "    </tr>\n",
       "  </thead>\n",
       "  <tbody>\n",
       "    <tr>\n",
       "      <th>1607</th>\n",
       "      <td>Sundried Yam (Cooked into paste) &amp; Guinea Fowl...</td>\n",
       "      <td>370</td>\n",
       "    </tr>\n",
       "    <tr>\n",
       "      <th>970</th>\n",
       "      <td>Baked butternut squash with groundnut-free sauce</td>\n",
       "      <td>370</td>\n",
       "    </tr>\n",
       "    <tr>\n",
       "      <th>1101</th>\n",
       "      <td>Yam and avocado egg salad</td>\n",
       "      <td>370</td>\n",
       "    </tr>\n",
       "    <tr>\n",
       "      <th>1108</th>\n",
       "      <td>Yam and spiced coconut crumbled</td>\n",
       "      <td>370</td>\n",
       "    </tr>\n",
       "    <tr>\n",
       "      <th>647</th>\n",
       "      <td>Chicken fried rice 1cup</td>\n",
       "      <td>370</td>\n",
       "    </tr>\n",
       "    <tr>\n",
       "      <th>1154</th>\n",
       "      <td>Cornmeal, Degermed, Unenriched, White</td>\n",
       "      <td>370</td>\n",
       "    </tr>\n",
       "    <tr>\n",
       "      <th>602</th>\n",
       "      <td>Yogurt, soaked almond seeds, mango smoothie</td>\n",
       "      <td>370</td>\n",
       "    </tr>\n",
       "    <tr>\n",
       "      <th>1377</th>\n",
       "      <td>Ripe Roasted Plantain &amp; Fresh Quail Egg</td>\n",
       "      <td>370</td>\n",
       "    </tr>\n",
       "    <tr>\n",
       "      <th>984</th>\n",
       "      <td>Zobo-poached chicken breast with carrot slaw</td>\n",
       "      <td>370</td>\n",
       "    </tr>\n",
       "    <tr>\n",
       "      <th>983</th>\n",
       "      <td>Spiced turkey gizzard with cabbage-carrot slaw</td>\n",
       "      <td>370</td>\n",
       "    </tr>\n",
       "  </tbody>\n",
       "</table>\n",
       "</div>"
      ],
      "text/plain": [
       "                                              Shrt_Desc  Energ_Kcal\n",
       "1607  Sundried Yam (Cooked into paste) & Guinea Fowl...         370\n",
       "970    Baked butternut squash with groundnut-free sauce         370\n",
       "1101                          Yam and avocado egg salad         370\n",
       "1108                    Yam and spiced coconut crumbled         370\n",
       "647                             Chicken fried rice 1cup         370\n",
       "1154              Cornmeal, Degermed, Unenriched, White         370\n",
       "602         Yogurt, soaked almond seeds, mango smoothie         370\n",
       "1377            Ripe Roasted Plantain & Fresh Quail Egg         370\n",
       "984        Zobo-poached chicken breast with carrot slaw         370\n",
       "983      Spiced turkey gizzard with cabbage-carrot slaw         370"
      ]
     },
     "execution_count": 36,
     "metadata": {},
     "output_type": "execute_result"
    }
   ],
   "source": [
    "top_10_diets = df[df['Energ_Kcal'] < caloric_intake + 100].sort_values(by=['Energ_Kcal'], ascending=False).head(10)\n",
    "print(round(caloric_intake, 2), \"calories recommended per day\")\n",
    "top_10_diets[[\"Shrt_Desc\", \"Energ_Kcal\"]]"
   ]
  },
  {
   "cell_type": "code",
   "execution_count": 29,
   "metadata": {},
   "outputs": [],
   "source": [
    "df.to_csv(\"clustered_diets.csv\", index=False)\n"
   ]
  },
  {
   "cell_type": "code",
   "execution_count": null,
   "metadata": {},
   "outputs": [],
   "source": []
  }
 ],
 "metadata": {
  "colab": {
   "provenance": []
  },
  "kernelspec": {
   "display_name": "Python 3.12 (tf-env)",
   "language": "python",
   "name": "tf-env"
  },
  "language_info": {
   "codemirror_mode": {
    "name": "ipython",
    "version": 3
   },
   "file_extension": ".py",
   "mimetype": "text/x-python",
   "name": "python",
   "nbconvert_exporter": "python",
   "pygments_lexer": "ipython3",
   "version": "3.12.2"
  }
 },
 "nbformat": 4,
 "nbformat_minor": 4
}
